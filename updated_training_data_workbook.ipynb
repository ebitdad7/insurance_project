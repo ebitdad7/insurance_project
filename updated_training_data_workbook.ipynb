{
 "cells": [
  {
   "cell_type": "code",
   "execution_count": 2,
   "metadata": {},
   "outputs": [],
   "source": [
    "import os\n",
    "import scipy as sp\n",
    "import matplotlib.pyplot as plt\n",
    "import numpy as np\n",
    "import pandas as pd\n",
    "import seaborn as sns\n",
    "from numpy.random import seed\n",
    "from scipy.stats import norm\n",
    "from scipy.stats import t\n",
    "\n",
    "sns.set(style=\"darkgrid\")\n",
    "sns.set_context(\"poster\")\n"
   ]
  },
  {
   "cell_type": "markdown",
   "metadata": {},
   "source": [
    "# Data Dictionary for future use:"
   ]
  },
  {
   "cell_type": "code",
   "execution_count": 3,
   "metadata": {},
   "outputs": [],
   "source": [
    "df = pd.read_csv('tic_2000_train_data.csv')"
   ]
  },
  {
   "cell_type": "code",
   "execution_count": 4,
   "metadata": {},
   "outputs": [
    {
     "data": {
      "text/plain": [
       "Index(['MOSTYPE', 'MAANTHUI', 'MGEMOMV', 'MGEMLEEF', 'MOSHOOFD', 'MGODRK',\n",
       "       'MGODPR', 'MGODOV', 'MGODGE', 'MRELGE', 'MRELSA', 'MRELOV', 'MFALLEEN',\n",
       "       'MFGEKIND', 'MFWEKIND', 'MOPLHOOG', 'MOPLMIDD', 'MOPLLAAG', 'MBERHOOG',\n",
       "       'MBERZELF', 'MBERBOER', 'MBERMIDD', 'MBERARBG', 'MBERARBO', 'MSKA',\n",
       "       'MSKB1', 'MSKB2', 'MSKC', 'MSKD', 'MHHUUR', 'MHKOOP', 'MAUT1', 'MAUT2',\n",
       "       'MAUT0', 'MZFONDS', 'MZPART', 'MINKM30', 'MINK3045', 'MINK4575',\n",
       "       'MINK7512', 'MINK123M', 'MINKGEM', 'MKOOPKLA', 'PWAPART', 'PWABEDR',\n",
       "       'PWALAND', 'PPERSAUT', 'PBESAUT', 'PMOTSCO', 'PVRAAUT', 'PAANHANG',\n",
       "       'PTRACTOR', 'PWERKT', 'PBROM', 'PLEVEN', 'PPERSONG', 'PGEZONG',\n",
       "       'PWAOREG', 'PBRAND', 'PZEILPL', 'PPLEZIER', 'PFIETS', 'PINBOED',\n",
       "       'PBYSTAND', 'AWAPART', 'AWABEDR', 'AWALAND', 'APERSAUT', 'ABESAUT',\n",
       "       'AMOTSCO', 'AVRAAUT', 'AAANHANG', 'ATRACTOR', 'AWERKT', 'ABROM',\n",
       "       'ALEVEN', 'APERSONG', 'AGEZONG', 'AWAOREG', 'ABRAND', 'AZEILPL',\n",
       "       'APLEZIER', 'AFIETS', 'AINBOED', 'ABYSTAND', 'CARAVAN'],\n",
       "      dtype='object')"
      ]
     },
     "execution_count": 4,
     "metadata": {},
     "output_type": "execute_result"
    }
   ],
   "source": [
    "df.keys()"
   ]
  },
  {
   "cell_type": "code",
   "execution_count": 5,
   "metadata": {},
   "outputs": [
    {
     "data": {
      "text/plain": [
       "0       33\n",
       "1       37\n",
       "2       37\n",
       "3        9\n",
       "4       40\n",
       "        ..\n",
       "5817    36\n",
       "5818    35\n",
       "5819    33\n",
       "5820    34\n",
       "5821    33\n",
       "Name: MOSTYPE, Length: 5822, dtype: int64"
      ]
     },
     "execution_count": 5,
     "metadata": {},
     "output_type": "execute_result"
    }
   ],
   "source": [
    "df.MOSTYPE"
   ]
  },
  {
   "cell_type": "code",
   "execution_count": null,
   "metadata": {},
   "outputs": [],
   "source": []
  },
  {
   "cell_type": "code",
   "execution_count": 6,
   "metadata": {},
   "outputs": [
    {
     "data": {
      "text/html": [
       "<div>\n",
       "<style scoped>\n",
       "    .dataframe tbody tr th:only-of-type {\n",
       "        vertical-align: middle;\n",
       "    }\n",
       "\n",
       "    .dataframe tbody tr th {\n",
       "        vertical-align: top;\n",
       "    }\n",
       "\n",
       "    .dataframe thead th {\n",
       "        text-align: right;\n",
       "    }\n",
       "</style>\n",
       "<table border=\"1\" class=\"dataframe\">\n",
       "  <thead>\n",
       "    <tr style=\"text-align: right;\">\n",
       "      <th></th>\n",
       "      <th>MOSTYPE</th>\n",
       "      <th>MAANTHUI</th>\n",
       "      <th>MGEMOMV</th>\n",
       "      <th>MGEMLEEF</th>\n",
       "      <th>MOSHOOFD</th>\n",
       "      <th>MGODRK</th>\n",
       "      <th>MGODPR</th>\n",
       "      <th>MGODOV</th>\n",
       "      <th>MGODGE</th>\n",
       "      <th>MRELGE</th>\n",
       "      <th>...</th>\n",
       "      <th>APERSONG</th>\n",
       "      <th>AGEZONG</th>\n",
       "      <th>AWAOREG</th>\n",
       "      <th>ABRAND</th>\n",
       "      <th>AZEILPL</th>\n",
       "      <th>APLEZIER</th>\n",
       "      <th>AFIETS</th>\n",
       "      <th>AINBOED</th>\n",
       "      <th>ABYSTAND</th>\n",
       "      <th>CARAVAN</th>\n",
       "    </tr>\n",
       "  </thead>\n",
       "  <tbody>\n",
       "    <tr>\n",
       "      <th>0</th>\n",
       "      <td>33</td>\n",
       "      <td>1</td>\n",
       "      <td>3</td>\n",
       "      <td>2</td>\n",
       "      <td>8</td>\n",
       "      <td>0</td>\n",
       "      <td>5</td>\n",
       "      <td>1</td>\n",
       "      <td>3</td>\n",
       "      <td>7</td>\n",
       "      <td>...</td>\n",
       "      <td>0</td>\n",
       "      <td>0</td>\n",
       "      <td>0</td>\n",
       "      <td>1</td>\n",
       "      <td>0</td>\n",
       "      <td>0</td>\n",
       "      <td>0</td>\n",
       "      <td>0</td>\n",
       "      <td>0</td>\n",
       "      <td>0</td>\n",
       "    </tr>\n",
       "    <tr>\n",
       "      <th>1</th>\n",
       "      <td>37</td>\n",
       "      <td>1</td>\n",
       "      <td>2</td>\n",
       "      <td>2</td>\n",
       "      <td>8</td>\n",
       "      <td>1</td>\n",
       "      <td>4</td>\n",
       "      <td>1</td>\n",
       "      <td>4</td>\n",
       "      <td>6</td>\n",
       "      <td>...</td>\n",
       "      <td>0</td>\n",
       "      <td>0</td>\n",
       "      <td>0</td>\n",
       "      <td>1</td>\n",
       "      <td>0</td>\n",
       "      <td>0</td>\n",
       "      <td>0</td>\n",
       "      <td>0</td>\n",
       "      <td>0</td>\n",
       "      <td>0</td>\n",
       "    </tr>\n",
       "    <tr>\n",
       "      <th>2</th>\n",
       "      <td>37</td>\n",
       "      <td>1</td>\n",
       "      <td>2</td>\n",
       "      <td>2</td>\n",
       "      <td>8</td>\n",
       "      <td>0</td>\n",
       "      <td>4</td>\n",
       "      <td>2</td>\n",
       "      <td>4</td>\n",
       "      <td>3</td>\n",
       "      <td>...</td>\n",
       "      <td>0</td>\n",
       "      <td>0</td>\n",
       "      <td>0</td>\n",
       "      <td>1</td>\n",
       "      <td>0</td>\n",
       "      <td>0</td>\n",
       "      <td>0</td>\n",
       "      <td>0</td>\n",
       "      <td>0</td>\n",
       "      <td>0</td>\n",
       "    </tr>\n",
       "    <tr>\n",
       "      <th>3</th>\n",
       "      <td>9</td>\n",
       "      <td>1</td>\n",
       "      <td>3</td>\n",
       "      <td>3</td>\n",
       "      <td>3</td>\n",
       "      <td>2</td>\n",
       "      <td>3</td>\n",
       "      <td>2</td>\n",
       "      <td>4</td>\n",
       "      <td>5</td>\n",
       "      <td>...</td>\n",
       "      <td>0</td>\n",
       "      <td>0</td>\n",
       "      <td>0</td>\n",
       "      <td>1</td>\n",
       "      <td>0</td>\n",
       "      <td>0</td>\n",
       "      <td>0</td>\n",
       "      <td>0</td>\n",
       "      <td>0</td>\n",
       "      <td>0</td>\n",
       "    </tr>\n",
       "    <tr>\n",
       "      <th>4</th>\n",
       "      <td>40</td>\n",
       "      <td>1</td>\n",
       "      <td>4</td>\n",
       "      <td>2</td>\n",
       "      <td>10</td>\n",
       "      <td>1</td>\n",
       "      <td>4</td>\n",
       "      <td>1</td>\n",
       "      <td>4</td>\n",
       "      <td>7</td>\n",
       "      <td>...</td>\n",
       "      <td>0</td>\n",
       "      <td>0</td>\n",
       "      <td>0</td>\n",
       "      <td>1</td>\n",
       "      <td>0</td>\n",
       "      <td>0</td>\n",
       "      <td>0</td>\n",
       "      <td>0</td>\n",
       "      <td>0</td>\n",
       "      <td>0</td>\n",
       "    </tr>\n",
       "  </tbody>\n",
       "</table>\n",
       "<p>5 rows × 86 columns</p>\n",
       "</div>"
      ],
      "text/plain": [
       "   MOSTYPE  MAANTHUI  MGEMOMV  MGEMLEEF  MOSHOOFD  MGODRK  MGODPR  MGODOV  \\\n",
       "0       33         1        3         2         8       0       5       1   \n",
       "1       37         1        2         2         8       1       4       1   \n",
       "2       37         1        2         2         8       0       4       2   \n",
       "3        9         1        3         3         3       2       3       2   \n",
       "4       40         1        4         2        10       1       4       1   \n",
       "\n",
       "   MGODGE  MRELGE  ...  APERSONG  AGEZONG  AWAOREG  ABRAND  AZEILPL  APLEZIER  \\\n",
       "0       3       7  ...         0        0        0       1        0         0   \n",
       "1       4       6  ...         0        0        0       1        0         0   \n",
       "2       4       3  ...         0        0        0       1        0         0   \n",
       "3       4       5  ...         0        0        0       1        0         0   \n",
       "4       4       7  ...         0        0        0       1        0         0   \n",
       "\n",
       "   AFIETS  AINBOED  ABYSTAND  CARAVAN  \n",
       "0       0        0         0        0  \n",
       "1       0        0         0        0  \n",
       "2       0        0         0        0  \n",
       "3       0        0         0        0  \n",
       "4       0        0         0        0  \n",
       "\n",
       "[5 rows x 86 columns]"
      ]
     },
     "execution_count": 6,
     "metadata": {},
     "output_type": "execute_result"
    }
   ],
   "source": [
    "df.head()"
   ]
  },
  {
   "cell_type": "code",
   "execution_count": 7,
   "metadata": {},
   "outputs": [],
   "source": [
    "import sweetviz\n",
    "#get quick descriptive summary of info\n",
    "\n",
    "#for more info on package, please see: https://github.com/fbdesignpro/sweetviz\n",
    "#create quick copy for ease of use\n",
    "report_data = pd.DataFrame.copy(df)"
   ]
  },
  {
   "cell_type": "code",
   "execution_count": 8,
   "metadata": {},
   "outputs": [],
   "source": [
    "#rename cols for prelim report ease\n",
    "report_data.rename(columns={'MOSTYPE': 'Customer Subtype L0', 'MAANTHUI':'Number of houses 1 ñ 10', 'MGEMOMV' : 'Avg size household 1 ñ 6',\n",
    "                   'MGEMLEEF':'Avg age see L1', 'MOSHOOFD': 'Customer main type see L2', 'MGODRK': 'Roman catholic see L3',\n",
    "                   'MGODPR': 'Protestant','MGODOV' : 'Other religion', 'MGODGE': 'No religion','MRELGE' :'Married',\n",
    "                   'MRELSA' : 'Living together','MRELOV' : 'Other relation','MFALLEEN' : 'Singles','MFGEKIND' : 'Household without children',\n",
    "                   'MFWEKIND' : 'Household with children','MOPLHOOG' : 'High level education','MOPLMIDD' : 'Medium level education',\n",
    "                   'MOPLLAAG' : 'Lower level education','MBERHOOG' : 'High status','MBERZELF' : 'Entrepreneur','MBERBOER' : 'Farmer',\n",
    "                   'MBERMIDD' : 'Middle management','MBERARBG' : 'Skilled labourers','MBERARBO' : 'Unskilled labourers',\n",
    "                   'MSKA' : 'Social class A','MSKB1' : 'Social class B1','MSKB2' : 'Social class B2','MSKC' : 'Social class C',\n",
    "                   'MSKD' : 'Social class D','MHHUUR' : 'Rented house','MHKOOP' : 'Home owners','MAUT1' : '1 car','MAUT2' : '2 cars',\n",
    "                   'MAUT0' : 'No car','MZFONDS' : 'National Health Service','MZPART' : 'Private health insurance','MINKM30' : 'Income < 30.000',\n",
    "                   'MINK3045' : 'Income 30-45.000','MINK4575' : 'Income 45-75.000','MINK7512' : 'Income 75-122.000','MINK123M' : 'Income >123.000',\n",
    "                   'MINKGEM' : 'Average income','MKOOPKLA' : 'Purchasing power class','PWAPART' : 'Contribution private third party insurance see L4','PWABEDR' : 'Contribution third party insurance (firms)',\n",
    "                   'PWALAND' : 'Contribution third party insurance (agriculture)','PPERSAUT' : 'Contribution car policies','PBESAUT' : 'Contribution delivery van policies',\n",
    "                   'PMOTSCO' : 'Contribution motorcycle/scooter policies','PVRAAUT' : 'Contribution lorry policies','PAANHANG' : 'Contribution trailer policies',\n",
    "                   'PTRACTOR' : 'Contribution tractor policies','PWERKT' : 'Contribution agricultural machines policies','PBROM' : 'Contribution moped policies',\n",
    "                   'PLEVEN' : 'Contribution life insurances','PPERSONG' : 'Contribution private accident insurance policies',\n",
    "                   'PGEZONG' : 'Contribution family accidents insurance policies','PWAOREG' : 'Contribution disability insurance policies','PBRAND' : 'Contribution fire policies',\n",
    "                   'PZEILPL' : 'Contribution surfboard policies','PPLEZIER' : 'Contribution boat policies','PFIETS' : 'Contribution bicycle policies',\n",
    "                   'PINBOED' : 'Contribution property insurance policies','PBYSTAND' : 'Contribution social security insurance policies','AWAPART' : 'Number of private third party insurance 1 - 12',\n",
    "                   'AWABEDR' : 'Number of third party insurance (firms)','AWALAND' : 'Number of third party insurance (agriculture)','APERSAUT' : 'Number of car policies',\n",
    "                   'ABESAUT' : 'Number of delivery van policies','AMOTSCO' : 'Number of motorcycle/scooter policies', 'AVRAAUT' : 'Number of lorry policies','AAANHANG': 'Number of trailer policies',\n",
    "                   'ATRACTOR' : 'Number of tractor policies','AWERKT' : 'Number of agricultural machines policies','ABROM' : 'Number of moped policies',\n",
    "                   'ALEVEN' : 'Number of life insurances', 'APERSONG' : 'Number of private accident insurance policies','AGEZONG' : 'Number of family accidents insurance policies',\n",
    "                   'AWAOREG' : 'Number of disability insurance policies','ABRAND' :'Number of fire policies','AZEILPL' :'Number of surfboard policies','APLEZIER' :'Number of boat policies',\n",
    "                   'AFIETS' :'Cycle_p','AINBOED' :'Prop_p','ABYSTAND' :'SS_p','CARAVAN' :'MHome_p'},\n",
    "          inplace=True)"
   ]
  },
  {
   "cell_type": "code",
   "execution_count": 9,
   "metadata": {},
   "outputs": [
    {
     "name": "stderr",
     "output_type": "stream",
     "text": [
      ":FEATURES DONE:                    |█████████████████████| [100%]   00:08  -> (00:00 left)\n",
      ":PAIRWISE DONE:                    |█████████████████████| [100%]   00:21  -> (00:00 left)\n"
     ]
    },
    {
     "name": "stdout",
     "output_type": "stream",
     "text": [
      "Creating Associations graph... DONE!\n"
     ]
    }
   ],
   "source": [
    "cfg = sweetviz.FeatureConfig(force_cat=[\"Customer Subtype L0\",\n",
    "                                       \"Avg age see L1\", \"Customer main type see L2\",\n",
    "                                       \"Roman catholic see L3\",\"Contribution private third party insurance see L4\"])\n",
    "report_prelim= sweetviz.analyze([report_data, \"Train\"], target_feat= \"MHome_p\", feat_cfg = cfg)"
   ]
  },
  {
   "cell_type": "code",
   "execution_count": 10,
   "metadata": {},
   "outputs": [],
   "source": [
    "report_prelim.show_html(\"Report_prelim.html\")"
   ]
  },
  {
   "cell_type": "code",
   "execution_count": 11,
   "metadata": {},
   "outputs": [],
   "source": [
    "#take note of the features which explain the details of CARAVAN. There are 14 main features that explain atleast 60% of our target:\n",
    "\n",
    "#1) Contribution car policies 0.07\n",
    "#2) Contribution fire policies 0.05\n",
    "#3) Number of car policies 0.05\n",
    "#4) Customer Subtype L0 0.05\n",
    "#5) Customer main type see L2 0.03\n",
    "#6) Average income 0.03\n",
    "#7) Purchasing power class 0.03\n",
    "#8) Income < 30.000 0.02\n",
    "#9) Lower level education 0.02\n",
    "#10) Contribution private third party insurance see L4 0.02\n",
    "#11) No car 0.02\n",
    "#12) Number of private third party insurance 1 - 12 0.02\n",
    "#13) Rented house 0.02\n",
    "#14) Home owners 0.02"
   ]
  },
  {
   "cell_type": "markdown",
   "metadata": {},
   "source": [
    "# Using PCA to find features"
   ]
  },
  {
   "cell_type": "code",
   "execution_count": 12,
   "metadata": {},
   "outputs": [],
   "source": [
    "from sklearn.preprocessing import StandardScaler\n",
    "features = ['MOSTYPE', 'MAANTHUI', 'MGEMOMV', 'MGEMLEEF', 'MOSHOOFD', 'MGODRK',\n",
    "       'MGODPR', 'MGODOV', 'MGODGE', 'MRELGE', 'MRELSA', 'MRELOV', 'MFALLEEN',\n",
    "       'MFGEKIND', 'MFWEKIND', 'MOPLHOOG', 'MOPLMIDD', 'MOPLLAAG', 'MBERHOOG',\n",
    "       'MBERZELF', 'MBERBOER', 'MBERMIDD', 'MBERARBG', 'MBERARBO', 'MSKA',\n",
    "       'MSKB1', 'MSKB2', 'MSKC', 'MSKD', 'MHHUUR', 'MHKOOP', 'MAUT1', 'MAUT2',\n",
    "       'MAUT0', 'MZFONDS', 'MZPART', 'MINKM30', 'MINK3045', 'MINK4575',\n",
    "       'MINK7512', 'MINK123M', 'MINKGEM', 'MKOOPKLA', 'PWAPART', 'PWABEDR',\n",
    "       'PWALAND', 'PPERSAUT', 'PBESAUT', 'PMOTSCO', 'PVRAAUT', 'PAANHANG',\n",
    "       'PTRACTOR', 'PWERKT', 'PBROM', 'PLEVEN', 'PPERSONG', 'PGEZONG',\n",
    "       'PWAOREG', 'PBRAND', 'PZEILPL', 'PPLEZIER', 'PFIETS', 'PINBOED',\n",
    "       'PBYSTAND', 'AWAPART', 'AWABEDR', 'AWALAND', 'APERSAUT', 'ABESAUT',\n",
    "       'AMOTSCO', 'AVRAAUT', 'AAANHANG', 'ATRACTOR', 'AWERKT', 'ABROM',\n",
    "       'ALEVEN', 'APERSONG', 'AGEZONG', 'AWAOREG', 'ABRAND', 'AZEILPL',\n",
    "       'APLEZIER', 'AFIETS', 'AINBOED', 'ABYSTAND']\n",
    "# Separating out the features\n",
    "x = df.loc[:, features].values\n",
    "# Separating out the target\n",
    "y = df.loc[:,['CARAVAN']].values.ravel()\n",
    "# Standardizing the features"
   ]
  },
  {
   "cell_type": "code",
   "execution_count": 14,
   "metadata": {},
   "outputs": [
    {
     "ename": "ValueError",
     "evalue": "Shape of passed values is (21, 85), indices imply (46, 85)",
     "output_type": "error",
     "traceback": [
      "\u001b[1;31m---------------------------------------------------------------------------\u001b[0m",
      "\u001b[1;31mValueError\u001b[0m                                Traceback (most recent call last)",
      "\u001b[1;32m~\\Anaconda3\\lib\\site-packages\\pandas\\core\\internals\\managers.py\u001b[0m in \u001b[0;36mcreate_block_manager_from_blocks\u001b[1;34m(blocks, axes)\u001b[0m\n\u001b[0;32m   1656\u001b[0m \u001b[1;33m\u001b[0m\u001b[0m\n\u001b[1;32m-> 1657\u001b[1;33m         \u001b[0mmgr\u001b[0m \u001b[1;33m=\u001b[0m \u001b[0mBlockManager\u001b[0m\u001b[1;33m(\u001b[0m\u001b[0mblocks\u001b[0m\u001b[1;33m,\u001b[0m \u001b[0maxes\u001b[0m\u001b[1;33m)\u001b[0m\u001b[1;33m\u001b[0m\u001b[1;33m\u001b[0m\u001b[0m\n\u001b[0m\u001b[0;32m   1658\u001b[0m         \u001b[0mmgr\u001b[0m\u001b[1;33m.\u001b[0m\u001b[0m_consolidate_inplace\u001b[0m\u001b[1;33m(\u001b[0m\u001b[1;33m)\u001b[0m\u001b[1;33m\u001b[0m\u001b[1;33m\u001b[0m\u001b[0m\n",
      "\u001b[1;32m~\\Anaconda3\\lib\\site-packages\\pandas\\core\\internals\\managers.py\u001b[0m in \u001b[0;36m__init__\u001b[1;34m(self, blocks, axes, do_integrity_check)\u001b[0m\n\u001b[0;32m    138\u001b[0m         \u001b[1;32mif\u001b[0m \u001b[0mdo_integrity_check\u001b[0m\u001b[1;33m:\u001b[0m\u001b[1;33m\u001b[0m\u001b[1;33m\u001b[0m\u001b[0m\n\u001b[1;32m--> 139\u001b[1;33m             \u001b[0mself\u001b[0m\u001b[1;33m.\u001b[0m\u001b[0m_verify_integrity\u001b[0m\u001b[1;33m(\u001b[0m\u001b[1;33m)\u001b[0m\u001b[1;33m\u001b[0m\u001b[1;33m\u001b[0m\u001b[0m\n\u001b[0m\u001b[0;32m    140\u001b[0m \u001b[1;33m\u001b[0m\u001b[0m\n",
      "\u001b[1;32m~\\Anaconda3\\lib\\site-packages\\pandas\\core\\internals\\managers.py\u001b[0m in \u001b[0;36m_verify_integrity\u001b[1;34m(self)\u001b[0m\n\u001b[0;32m    333\u001b[0m             \u001b[1;32mif\u001b[0m \u001b[0mblock\u001b[0m\u001b[1;33m.\u001b[0m\u001b[0m_verify_integrity\u001b[0m \u001b[1;32mand\u001b[0m \u001b[0mblock\u001b[0m\u001b[1;33m.\u001b[0m\u001b[0mshape\u001b[0m\u001b[1;33m[\u001b[0m\u001b[1;36m1\u001b[0m\u001b[1;33m:\u001b[0m\u001b[1;33m]\u001b[0m \u001b[1;33m!=\u001b[0m \u001b[0mmgr_shape\u001b[0m\u001b[1;33m[\u001b[0m\u001b[1;36m1\u001b[0m\u001b[1;33m:\u001b[0m\u001b[1;33m]\u001b[0m\u001b[1;33m:\u001b[0m\u001b[1;33m\u001b[0m\u001b[1;33m\u001b[0m\u001b[0m\n\u001b[1;32m--> 334\u001b[1;33m                 \u001b[0mconstruction_error\u001b[0m\u001b[1;33m(\u001b[0m\u001b[0mtot_items\u001b[0m\u001b[1;33m,\u001b[0m \u001b[0mblock\u001b[0m\u001b[1;33m.\u001b[0m\u001b[0mshape\u001b[0m\u001b[1;33m[\u001b[0m\u001b[1;36m1\u001b[0m\u001b[1;33m:\u001b[0m\u001b[1;33m]\u001b[0m\u001b[1;33m,\u001b[0m \u001b[0mself\u001b[0m\u001b[1;33m.\u001b[0m\u001b[0maxes\u001b[0m\u001b[1;33m)\u001b[0m\u001b[1;33m\u001b[0m\u001b[1;33m\u001b[0m\u001b[0m\n\u001b[0m\u001b[0;32m    335\u001b[0m         \u001b[1;32mif\u001b[0m \u001b[0mlen\u001b[0m\u001b[1;33m(\u001b[0m\u001b[0mself\u001b[0m\u001b[1;33m.\u001b[0m\u001b[0mitems\u001b[0m\u001b[1;33m)\u001b[0m \u001b[1;33m!=\u001b[0m \u001b[0mtot_items\u001b[0m\u001b[1;33m:\u001b[0m\u001b[1;33m\u001b[0m\u001b[1;33m\u001b[0m\u001b[0m\n",
      "\u001b[1;32m~\\Anaconda3\\lib\\site-packages\\pandas\\core\\internals\\managers.py\u001b[0m in \u001b[0;36mconstruction_error\u001b[1;34m(tot_items, block_shape, axes, e)\u001b[0m\n\u001b[0;32m   1693\u001b[0m         \u001b[1;32mraise\u001b[0m \u001b[0mValueError\u001b[0m\u001b[1;33m(\u001b[0m\u001b[1;34m\"Empty data passed with indices specified.\"\u001b[0m\u001b[1;33m)\u001b[0m\u001b[1;33m\u001b[0m\u001b[1;33m\u001b[0m\u001b[0m\n\u001b[1;32m-> 1694\u001b[1;33m     \u001b[1;32mraise\u001b[0m \u001b[0mValueError\u001b[0m\u001b[1;33m(\u001b[0m\u001b[1;34mf\"Shape of passed values is {passed}, indices imply {implied}\"\u001b[0m\u001b[1;33m)\u001b[0m\u001b[1;33m\u001b[0m\u001b[1;33m\u001b[0m\u001b[0m\n\u001b[0m\u001b[0;32m   1695\u001b[0m \u001b[1;33m\u001b[0m\u001b[0m\n",
      "\u001b[1;31mValueError\u001b[0m: Shape of passed values is (21, 85), indices imply (46, 85)",
      "\nDuring handling of the above exception, another exception occurred:\n",
      "\u001b[1;31mValueError\u001b[0m                                Traceback (most recent call last)",
      "\u001b[1;32m<ipython-input-14-09c4950fca60>\u001b[0m in \u001b[0;36m<module>\u001b[1;34m\u001b[0m\n\u001b[0;32m     14\u001b[0m pd.DataFrame(pca.components_, columns=df.loc[:,features].columns, index=['pc_1', 'pc_2', 'pc_3','pc_4','pc_5','pc_6','pc_7','pc_8','pc_9','pc_10','pc_11','pc_12','pc_13','pc_14',\n\u001b[0;32m     15\u001b[0m                          \u001b[1;34m'pc_15'\u001b[0m\u001b[1;33m,\u001b[0m\u001b[1;34m'pc_16'\u001b[0m\u001b[1;33m,\u001b[0m\u001b[1;34m'pc_17'\u001b[0m\u001b[1;33m,\u001b[0m\u001b[1;34m'pc_18'\u001b[0m\u001b[1;33m,\u001b[0m\u001b[1;34m'pc_19'\u001b[0m\u001b[1;33m,\u001b[0m\u001b[1;34m'pc_20'\u001b[0m\u001b[1;33m,\u001b[0m\u001b[1;34m'pc_21'\u001b[0m\u001b[1;33m,\u001b[0m\u001b[1;34m'pc_22'\u001b[0m\u001b[1;33m,\u001b[0m\u001b[1;34m'pc_23'\u001b[0m\u001b[1;33m,\u001b[0m\u001b[1;34m'pc_24'\u001b[0m\u001b[1;33m,\u001b[0m\u001b[1;34m'pc_25'\u001b[0m\u001b[1;33m,\u001b[0m\u001b[1;34m'pc_26'\u001b[0m\u001b[1;33m,\u001b[0m\u001b[1;34m'pc_27'\u001b[0m\u001b[1;33m,\u001b[0m\u001b[1;34m'pc_28'\u001b[0m\u001b[1;33m,\u001b[0m\u001b[1;33m\u001b[0m\u001b[1;33m\u001b[0m\u001b[0m\n\u001b[1;32m---> 16\u001b[1;33m                          'pc_29','pc_30','pc_31','pc_32','pc_33','pc_34','pc_35','pc_36','pc_37','pc_38','pc_39','pc_40','pc_41','pc_42','pc_43','pc_44','pc_45','pc_46'])\n\u001b[0m",
      "\u001b[1;32m~\\Anaconda3\\lib\\site-packages\\pandas\\core\\frame.py\u001b[0m in \u001b[0;36m__init__\u001b[1;34m(self, data, index, columns, dtype, copy)\u001b[0m\n\u001b[0;32m    462\u001b[0m                 \u001b[0mmgr\u001b[0m \u001b[1;33m=\u001b[0m \u001b[0minit_dict\u001b[0m\u001b[1;33m(\u001b[0m\u001b[1;33m{\u001b[0m\u001b[0mdata\u001b[0m\u001b[1;33m.\u001b[0m\u001b[0mname\u001b[0m\u001b[1;33m:\u001b[0m \u001b[0mdata\u001b[0m\u001b[1;33m}\u001b[0m\u001b[1;33m,\u001b[0m \u001b[0mindex\u001b[0m\u001b[1;33m,\u001b[0m \u001b[0mcolumns\u001b[0m\u001b[1;33m,\u001b[0m \u001b[0mdtype\u001b[0m\u001b[1;33m=\u001b[0m\u001b[0mdtype\u001b[0m\u001b[1;33m)\u001b[0m\u001b[1;33m\u001b[0m\u001b[1;33m\u001b[0m\u001b[0m\n\u001b[0;32m    463\u001b[0m             \u001b[1;32melse\u001b[0m\u001b[1;33m:\u001b[0m\u001b[1;33m\u001b[0m\u001b[1;33m\u001b[0m\u001b[0m\n\u001b[1;32m--> 464\u001b[1;33m                 \u001b[0mmgr\u001b[0m \u001b[1;33m=\u001b[0m \u001b[0minit_ndarray\u001b[0m\u001b[1;33m(\u001b[0m\u001b[0mdata\u001b[0m\u001b[1;33m,\u001b[0m \u001b[0mindex\u001b[0m\u001b[1;33m,\u001b[0m \u001b[0mcolumns\u001b[0m\u001b[1;33m,\u001b[0m \u001b[0mdtype\u001b[0m\u001b[1;33m=\u001b[0m\u001b[0mdtype\u001b[0m\u001b[1;33m,\u001b[0m \u001b[0mcopy\u001b[0m\u001b[1;33m=\u001b[0m\u001b[0mcopy\u001b[0m\u001b[1;33m)\u001b[0m\u001b[1;33m\u001b[0m\u001b[1;33m\u001b[0m\u001b[0m\n\u001b[0m\u001b[0;32m    465\u001b[0m \u001b[1;33m\u001b[0m\u001b[0m\n\u001b[0;32m    466\u001b[0m         \u001b[1;31m# For data is list-like, or Iterable (will consume into list)\u001b[0m\u001b[1;33m\u001b[0m\u001b[1;33m\u001b[0m\u001b[1;33m\u001b[0m\u001b[0m\n",
      "\u001b[1;32m~\\Anaconda3\\lib\\site-packages\\pandas\\core\\internals\\construction.py\u001b[0m in \u001b[0;36minit_ndarray\u001b[1;34m(values, index, columns, dtype, copy)\u001b[0m\n\u001b[0;32m    208\u001b[0m         \u001b[0mblock_values\u001b[0m \u001b[1;33m=\u001b[0m \u001b[1;33m[\u001b[0m\u001b[0mvalues\u001b[0m\u001b[1;33m]\u001b[0m\u001b[1;33m\u001b[0m\u001b[1;33m\u001b[0m\u001b[0m\n\u001b[0;32m    209\u001b[0m \u001b[1;33m\u001b[0m\u001b[0m\n\u001b[1;32m--> 210\u001b[1;33m     \u001b[1;32mreturn\u001b[0m \u001b[0mcreate_block_manager_from_blocks\u001b[0m\u001b[1;33m(\u001b[0m\u001b[0mblock_values\u001b[0m\u001b[1;33m,\u001b[0m \u001b[1;33m[\u001b[0m\u001b[0mcolumns\u001b[0m\u001b[1;33m,\u001b[0m \u001b[0mindex\u001b[0m\u001b[1;33m]\u001b[0m\u001b[1;33m)\u001b[0m\u001b[1;33m\u001b[0m\u001b[1;33m\u001b[0m\u001b[0m\n\u001b[0m\u001b[0;32m    211\u001b[0m \u001b[1;33m\u001b[0m\u001b[0m\n\u001b[0;32m    212\u001b[0m \u001b[1;33m\u001b[0m\u001b[0m\n",
      "\u001b[1;32m~\\Anaconda3\\lib\\site-packages\\pandas\\core\\internals\\managers.py\u001b[0m in \u001b[0;36mcreate_block_manager_from_blocks\u001b[1;34m(blocks, axes)\u001b[0m\n\u001b[0;32m   1662\u001b[0m         \u001b[0mblocks\u001b[0m \u001b[1;33m=\u001b[0m \u001b[1;33m[\u001b[0m\u001b[0mgetattr\u001b[0m\u001b[1;33m(\u001b[0m\u001b[0mb\u001b[0m\u001b[1;33m,\u001b[0m \u001b[1;34m\"values\"\u001b[0m\u001b[1;33m,\u001b[0m \u001b[0mb\u001b[0m\u001b[1;33m)\u001b[0m \u001b[1;32mfor\u001b[0m \u001b[0mb\u001b[0m \u001b[1;32min\u001b[0m \u001b[0mblocks\u001b[0m\u001b[1;33m]\u001b[0m\u001b[1;33m\u001b[0m\u001b[1;33m\u001b[0m\u001b[0m\n\u001b[0;32m   1663\u001b[0m         \u001b[0mtot_items\u001b[0m \u001b[1;33m=\u001b[0m \u001b[0msum\u001b[0m\u001b[1;33m(\u001b[0m\u001b[0mb\u001b[0m\u001b[1;33m.\u001b[0m\u001b[0mshape\u001b[0m\u001b[1;33m[\u001b[0m\u001b[1;36m0\u001b[0m\u001b[1;33m]\u001b[0m \u001b[1;32mfor\u001b[0m \u001b[0mb\u001b[0m \u001b[1;32min\u001b[0m \u001b[0mblocks\u001b[0m\u001b[1;33m)\u001b[0m\u001b[1;33m\u001b[0m\u001b[1;33m\u001b[0m\u001b[0m\n\u001b[1;32m-> 1664\u001b[1;33m         \u001b[0mconstruction_error\u001b[0m\u001b[1;33m(\u001b[0m\u001b[0mtot_items\u001b[0m\u001b[1;33m,\u001b[0m \u001b[0mblocks\u001b[0m\u001b[1;33m[\u001b[0m\u001b[1;36m0\u001b[0m\u001b[1;33m]\u001b[0m\u001b[1;33m.\u001b[0m\u001b[0mshape\u001b[0m\u001b[1;33m[\u001b[0m\u001b[1;36m1\u001b[0m\u001b[1;33m:\u001b[0m\u001b[1;33m]\u001b[0m\u001b[1;33m,\u001b[0m \u001b[0maxes\u001b[0m\u001b[1;33m,\u001b[0m \u001b[0me\u001b[0m\u001b[1;33m)\u001b[0m\u001b[1;33m\u001b[0m\u001b[1;33m\u001b[0m\u001b[0m\n\u001b[0m\u001b[0;32m   1665\u001b[0m \u001b[1;33m\u001b[0m\u001b[0m\n\u001b[0;32m   1666\u001b[0m \u001b[1;33m\u001b[0m\u001b[0m\n",
      "\u001b[1;32m~\\Anaconda3\\lib\\site-packages\\pandas\\core\\internals\\managers.py\u001b[0m in \u001b[0;36mconstruction_error\u001b[1;34m(tot_items, block_shape, axes, e)\u001b[0m\n\u001b[0;32m   1692\u001b[0m     \u001b[1;32mif\u001b[0m \u001b[0mblock_shape\u001b[0m\u001b[1;33m[\u001b[0m\u001b[1;36m0\u001b[0m\u001b[1;33m]\u001b[0m \u001b[1;33m==\u001b[0m \u001b[1;36m0\u001b[0m\u001b[1;33m:\u001b[0m\u001b[1;33m\u001b[0m\u001b[1;33m\u001b[0m\u001b[0m\n\u001b[0;32m   1693\u001b[0m         \u001b[1;32mraise\u001b[0m \u001b[0mValueError\u001b[0m\u001b[1;33m(\u001b[0m\u001b[1;34m\"Empty data passed with indices specified.\"\u001b[0m\u001b[1;33m)\u001b[0m\u001b[1;33m\u001b[0m\u001b[1;33m\u001b[0m\u001b[0m\n\u001b[1;32m-> 1694\u001b[1;33m     \u001b[1;32mraise\u001b[0m \u001b[0mValueError\u001b[0m\u001b[1;33m(\u001b[0m\u001b[1;34mf\"Shape of passed values is {passed}, indices imply {implied}\"\u001b[0m\u001b[1;33m)\u001b[0m\u001b[1;33m\u001b[0m\u001b[1;33m\u001b[0m\u001b[0m\n\u001b[0m\u001b[0;32m   1695\u001b[0m \u001b[1;33m\u001b[0m\u001b[0m\n\u001b[0;32m   1696\u001b[0m \u001b[1;33m\u001b[0m\u001b[0m\n",
      "\u001b[1;31mValueError\u001b[0m: Shape of passed values is (21, 85), indices imply (46, 85)"
     ]
    }
   ],
   "source": [
    "from sklearn.decomposition import PCA\n",
    "from sklearn.pipeline import make_pipeline\n",
    "import matplotlib.pyplot as plt\n",
    "\n",
    "# Create a PCA instance with 95% of the variation explaining the data\n",
    "pca = PCA(.95)\n",
    "\n",
    "# Fit the data\n",
    "principalDf = pca.fit_transform(x)\n",
    "\n",
    "# Plot the explained variances\n",
    "features_n = range(pca.n_components_)\n",
    "\n",
    "pd.DataFrame(pca.components_, columns=df.loc[:,features].columns, index=['pc_1', 'pc_2', 'pc_3','pc_4','pc_5','pc_6','pc_7','pc_8','pc_9','pc_10','pc_11','pc_12','pc_13','pc_14',\n",
    "                         'pc_15','pc_16','pc_17','pc_18','pc_19','pc_20','pc_21','pc_22','pc_23','pc_24','pc_25','pc_26','pc_27','pc_28',\n",
    "                         'pc_29','pc_30','pc_31','pc_32','pc_33','pc_34','pc_35','pc_36','pc_37','pc_38','pc_39','pc_40','pc_41','pc_42','pc_43','pc_44','pc_45','pc_46'])"
   ]
  },
  {
   "cell_type": "code",
   "execution_count": 12,
   "metadata": {},
   "outputs": [
    {
     "data": {
      "image/png": "[encoded data removed]",
      "text/plain": [
       "<Figure size 2500x2500 with 1 Axes>"
      ]
     },
     "metadata": {},
     "output_type": "display_data"
    }
   ],
   "source": [
    "plt.figure(figsize=[25,25])\n",
    "plt.bar(features_n, pca.explained_variance_)\n",
    "plt.xlabel('PCA feature')\n",
    "plt.ylabel('variance')\n",
    "plt.xticks(features_n)\n",
    "plt.show()"
   ]
  },
  {
   "cell_type": "code",
   "execution_count": 13,
   "metadata": {},
   "outputs": [
    {
     "data": {
      "text/plain": [
       "array([0.1100152 , 0.05778628, 0.04692978, 0.0397625 , 0.03572165,\n",
       "       0.03225938, 0.02683512, 0.02635834, 0.02575003, 0.02480987,\n",
       "       0.02367001, 0.02353773, 0.02295952, 0.02251175, 0.0217534 ,\n",
       "       0.02144571, 0.02090392, 0.02050599, 0.02041063, 0.0199851 ,\n",
       "       0.01917658, 0.01876783, 0.018087  , 0.01674516, 0.01619929,\n",
       "       0.01596461, 0.01507047, 0.01454801, 0.01421246, 0.01388223,\n",
       "       0.01339942, 0.01249422, 0.01157735, 0.010955  , 0.01034402,\n",
       "       0.01031865, 0.00962969, 0.0095093 , 0.00896643, 0.0087297 ,\n",
       "       0.00821577, 0.00783597, 0.00727101, 0.00702674, 0.00656288,\n",
       "       0.00551365])"
      ]
     },
     "execution_count": 13,
     "metadata": {},
     "output_type": "execute_result"
    }
   ],
   "source": [
    "pca.explained_variance_ratio_"
   ]
  },
  {
   "cell_type": "code",
   "execution_count": 14,
   "metadata": {},
   "outputs": [
    {
     "data": {
      "text/plain": [
       "0.9549153406217402"
      ]
     },
     "execution_count": 14,
     "metadata": {},
     "output_type": "execute_result"
    }
   ],
   "source": [
    "pca.explained_variance_ratio_.sum()"
   ]
  },
  {
   "cell_type": "code",
   "execution_count": 15,
   "metadata": {},
   "outputs": [],
   "source": [
    "#45 components explains 95% of the data"
   ]
  },
  {
   "cell_type": "code",
   "execution_count": 16,
   "metadata": {},
   "outputs": [
    {
     "data": {
      "image/png": "[encoded data removed]",
      "text/plain": [
       "<Figure size 600x400 with 1 Axes>"
      ]
     },
     "metadata": {},
     "output_type": "display_data"
    }
   ],
   "source": [
    "#check the Kaiser criterion for rough estimate to see if these can be trimmed back at all.\n",
    "\n",
    "def scree_plot():\n",
    "    from matplotlib.pyplot import figure, show\n",
    "    from matplotlib.ticker import MaxNLocator\n",
    "\n",
    "    ax = figure().gca()\n",
    "    ax.plot(pca.explained_variance_)\n",
    "    ax.xaxis.set_major_locator(MaxNLocator(integer=True))\n",
    "    plt.xlabel('Principal Component')\n",
    "    plt.ylabel('Eigenvalue')\n",
    "    plt.axhline(y=1, linewidth=1, color='r', alpha=0.5)\n",
    "    plt.title('Scree Plot of PCA: Component Eigenvalues')\n",
    "    show()\n",
    "\n",
    "scree_plot()"
   ]
  },
  {
   "cell_type": "code",
   "execution_count": 17,
   "metadata": {},
   "outputs": [],
   "source": [
    "#According to the Kaiser criterion above, a better number of components is between 30 - 35 to prevent"
   ]
  },
  {
   "cell_type": "code",
   "execution_count": 18,
   "metadata": {},
   "outputs": [],
   "source": [
    "#We will use the 95% value for the new dataframe"
   ]
  },
  {
   "cell_type": "code",
   "execution_count": null,
   "metadata": {},
   "outputs": [],
   "source": []
  },
  {
   "cell_type": "code",
   "execution_count": 19,
   "metadata": {},
   "outputs": [],
   "source": [
    "prin_Df=pd.DataFrame(data = principalDf, \n",
    "                     columns = ['pc_1', 'pc_2', 'pc_3','pc_4','pc_5','pc_6','pc_7','pc_8','pc_9','pc_10','pc_11','pc_12','pc_13','pc_14',\n",
    "                         'pc_15','pc_16','pc_17','pc_18','pc_19','pc_20','pc_21','pc_22','pc_23','pc_24','pc_25','pc_26','pc_27','pc_28',\n",
    "                         'pc_29','pc_30','pc_31','pc_32','pc_33','pc_34','pc_35','pc_36','pc_37','pc_38','pc_39','pc_40','pc_41','pc_42','pc_43','pc_44','pc_45','pc_46'])"
   ]
  },
  {
   "cell_type": "code",
   "execution_count": 20,
   "metadata": {},
   "outputs": [
    {
     "data": {
      "text/plain": [
       "(5822, 46)"
      ]
     },
     "execution_count": 20,
     "metadata": {},
     "output_type": "execute_result"
    }
   ],
   "source": [
    "prin_Df.shape"
   ]
  },
  {
   "cell_type": "code",
   "execution_count": 21,
   "metadata": {},
   "outputs": [
    {
     "data": {
      "text/plain": [
       "(5822, 1)"
      ]
     },
     "execution_count": 21,
     "metadata": {},
     "output_type": "execute_result"
    }
   ],
   "source": [
    "y.shape"
   ]
  },
  {
   "cell_type": "code",
   "execution_count": 22,
   "metadata": {},
   "outputs": [],
   "source": [
    "X = np.array(prin_Df)\n",
    "Y = np.array(y).ravel()"
   ]
  },
  {
   "cell_type": "code",
   "execution_count": null,
   "metadata": {},
   "outputs": [],
   "source": []
  },
  {
   "cell_type": "markdown",
   "metadata": {},
   "source": [
    "# Train the data"
   ]
  },
  {
   "cell_type": "code",
   "execution_count": 15,
   "metadata": {},
   "outputs": [],
   "source": [
    "from sklearn.model_selection import train_test_split\n",
    "\n",
    "X_train, X_test, y_train, y_test = train_test_split(x, y, test_size=0.2, random_state=0)"
   ]
  },
  {
   "cell_type": "code",
   "execution_count": 16,
   "metadata": {},
   "outputs": [
    {
     "data": {
      "text/plain": [
       "(4657,)"
      ]
     },
     "execution_count": 16,
     "metadata": {},
     "output_type": "execute_result"
    }
   ],
   "source": [
    "y_train.shape"
   ]
  },
  {
   "cell_type": "code",
   "execution_count": 17,
   "metadata": {},
   "outputs": [
    {
     "name": "stdout",
     "output_type": "stream",
     "text": [
      "Training Features Shape: (4657, 85)\n",
      "Training Labels Shape: (4657,)\n",
      "Testing Features Shape: (1165, 85)\n",
      "Testing Labels Shape: (1165,)\n"
     ]
    }
   ],
   "source": [
    "print('Training Features Shape:', X_train.shape)\n",
    "print('Training Labels Shape:', y_train.shape)\n",
    "print('Testing Features Shape:', X_test.shape)\n",
    "print('Testing Labels Shape:', y_test.shape)"
   ]
  },
  {
   "cell_type": "code",
   "execution_count": 18,
   "metadata": {},
   "outputs": [
    {
     "name": "stdout",
     "output_type": "stream",
     "text": [
      "KNeighborsClassifier(n_neighbors=3)\n",
      "model score: 0.921\n",
      "model confusion matrix\n",
      " [[1073   15]\n",
      " [  77    0]]\n",
      "SVC(C=0.025, probability=True)\n",
      "model score: 0.934\n",
      "model confusion matrix\n",
      " [[1088    0]\n",
      " [  77    0]]\n",
      "DecisionTreeClassifier()\n",
      "model score: 0.892\n",
      "model confusion matrix\n",
      " [[1024   64]\n",
      " [  62   15]]\n",
      "RandomForestClassifier()\n",
      "model score: 0.924\n",
      "model confusion matrix\n",
      " [[1072   16]\n",
      " [  72    5]]\n",
      "AdaBoostClassifier()\n",
      "model score: 0.932\n",
      "model confusion matrix\n",
      " [[1083    5]\n",
      " [  74    3]]\n",
      "GradientBoostingClassifier()\n",
      "model score: 0.931\n",
      "model confusion matrix\n",
      " [[1084    4]\n",
      " [  76    1]]\n"
     ]
    },
    {
     "data": {
      "image/png": "[encoded data removed]",
      "text/plain": [
       "<Figure size 600x400 with 1 Axes>"
      ]
     },
     "metadata": {},
     "output_type": "display_data"
    }
   ],
   "source": [
    "from sklearn.metrics import accuracy_score, log_loss, confusion_matrix, plot_roc_curve\n",
    "from sklearn.neighbors import KNeighborsClassifier\n",
    "from sklearn.svm import SVC, LinearSVC, NuSVC\n",
    "from sklearn.tree import DecisionTreeClassifier\n",
    "from sklearn.ensemble import RandomForestClassifier, AdaBoostClassifier, GradientBoostingClassifier\n",
    "from sklearn.discriminant_analysis import LinearDiscriminantAnalysis, QuadraticDiscriminantAnalysis\n",
    "\n",
    "classifiers = [\n",
    "    KNeighborsClassifier(3),\n",
    "    SVC(kernel=\"rbf\", C=0.025, probability=True),\n",
    "    DecisionTreeClassifier(),\n",
    "    RandomForestClassifier(),\n",
    "    AdaBoostClassifier(),\n",
    "    GradientBoostingClassifier()\n",
    "    \n",
    "    ]\n",
    "\n",
    "for classifier in classifiers:\n",
    "    model = classifier.fit(X_train, y_train)\n",
    "    \n",
    "    predictions = classifier.predict(X_test)\n",
    "    print(classifier)\n",
    "    print(\"model score: %.3f\" % model.score(X_test, y_test))\n",
    "    print(\"model confusion matrix\" '\\n', confusion_matrix(y_test, predictions))\n",
    "    ax = plt.gca()\n",
    "    disp = plot_roc_curve(classifier, X_test, y_test, ax=ax, alpha=0.9)"
   ]
  },
  {
   "cell_type": "code",
   "execution_count": 11,
   "metadata": {},
   "outputs": [
    {
     "name": "stderr",
     "output_type": "stream",
     "text": [
      "/Users/brendanganji/anaconda3/lib/python3.7/site-packages/sklearn/linear_model/_logistic.py:940: ConvergenceWarning: lbfgs failed to converge (status=1):\n",
      "STOP: TOTAL NO. of ITERATIONS REACHED LIMIT.\n",
      "\n",
      "Increase the number of iterations (max_iter) or scale the data as shown in:\n",
      "    https://scikit-learn.org/stable/modules/preprocessing.html\n",
      "Please also refer to the documentation for alternative solver options:\n",
      "    https://scikit-learn.org/stable/modules/linear_model.html#logistic-regression\n",
      "  extra_warning_msg=_LOGISTIC_SOLVER_CONVERGENCE_MSG)\n",
      "/Users/brendanganji/anaconda3/lib/python3.7/site-packages/sklearn/linear_model/_logistic.py:940: ConvergenceWarning: lbfgs failed to converge (status=1):\n",
      "STOP: TOTAL NO. of ITERATIONS REACHED LIMIT.\n",
      "\n",
      "Increase the number of iterations (max_iter) or scale the data as shown in:\n",
      "    https://scikit-learn.org/stable/modules/preprocessing.html\n",
      "Please also refer to the documentation for alternative solver options:\n",
      "    https://scikit-learn.org/stable/modules/linear_model.html#logistic-regression\n",
      "  extra_warning_msg=_LOGISTIC_SOLVER_CONVERGENCE_MSG)\n",
      "/Users/brendanganji/anaconda3/lib/python3.7/site-packages/sklearn/linear_model/_logistic.py:940: ConvergenceWarning: lbfgs failed to converge (status=1):\n",
      "STOP: TOTAL NO. of ITERATIONS REACHED LIMIT.\n",
      "\n",
      "Increase the number of iterations (max_iter) or scale the data as shown in:\n",
      "    https://scikit-learn.org/stable/modules/preprocessing.html\n",
      "Please also refer to the documentation for alternative solver options:\n",
      "    https://scikit-learn.org/stable/modules/linear_model.html#logistic-regression\n",
      "  extra_warning_msg=_LOGISTIC_SOLVER_CONVERGENCE_MSG)\n",
      "/Users/brendanganji/anaconda3/lib/python3.7/site-packages/sklearn/linear_model/_logistic.py:940: ConvergenceWarning: lbfgs failed to converge (status=1):\n",
      "STOP: TOTAL NO. of ITERATIONS REACHED LIMIT.\n",
      "\n",
      "Increase the number of iterations (max_iter) or scale the data as shown in:\n",
      "    https://scikit-learn.org/stable/modules/preprocessing.html\n",
      "Please also refer to the documentation for alternative solver options:\n",
      "    https://scikit-learn.org/stable/modules/linear_model.html#logistic-regression\n",
      "  extra_warning_msg=_LOGISTIC_SOLVER_CONVERGENCE_MSG)\n",
      "/Users/brendanganji/anaconda3/lib/python3.7/site-packages/sklearn/linear_model/_logistic.py:940: ConvergenceWarning: lbfgs failed to converge (status=1):\n",
      "STOP: TOTAL NO. of ITERATIONS REACHED LIMIT.\n",
      "\n",
      "Increase the number of iterations (max_iter) or scale the data as shown in:\n",
      "    https://scikit-learn.org/stable/modules/preprocessing.html\n",
      "Please also refer to the documentation for alternative solver options:\n",
      "    https://scikit-learn.org/stable/modules/linear_model.html#logistic-regression\n",
      "  extra_warning_msg=_LOGISTIC_SOLVER_CONVERGENCE_MSG)\n"
     ]
    },
    {
     "name": "stdout",
     "output_type": "stream",
     "text": [
      "LR: 0.939229 (0.004901)\n",
      "LDA: 0.934934 (0.007688)\n",
      "KNN: 0.938370 (0.006194)\n",
      "CART: 0.893279 (0.004724)\n",
      "NB: 0.172415 (0.029142)\n"
     ]
    },
    {
     "data": {
      "image/png": "[encoded data removed]",
      "text/plain": [
       "<Figure size 432x288 with 1 Axes>"
      ]
     },
     "metadata": {
      "needs_background": "light"
     },
     "output_type": "display_data"
    }
   ],
   "source": [
    "from sklearn import model_selection\n",
    "from sklearn.linear_model import LogisticRegression\n",
    "from sklearn.tree import DecisionTreeClassifier\n",
    "from sklearn.neighbors import KNeighborsClassifier\n",
    "from sklearn.discriminant_analysis import LinearDiscriminantAnalysis\n",
    "from sklearn.naive_bayes import GaussianNB\n",
    "from sklearn.svm import SVC\n",
    "# load dataset\n",
    "# prepare configuration for cross validation test harness\n",
    "# prepare models\n",
    "models = []\n",
    "models.append(('LR', LogisticRegression()))\n",
    "models.append(('LDA', LinearDiscriminantAnalysis()))\n",
    "models.append(('KNN', KNeighborsClassifier()))\n",
    "models.append(('CART', DecisionTreeClassifier()))\n",
    "models.append(('NB', GaussianNB()))\n",
    "# evaluate each model in turn\n",
    "results = []\n",
    "names = []\n",
    "scoring = 'accuracy'\n",
    "for name, model in models:\n",
    "\tkfold = model_selection.KFold(n_splits=5)\n",
    "\tcv_results = model_selection.cross_val_score(model, X_train, y_train, cv=kfold, scoring=scoring)\n",
    "\tresults.append(cv_results)\n",
    "\tnames.append(name)\n",
    "\tmsg = \"%s: %f (%f)\" % (name, cv_results.mean(), cv_results.std())\n",
    "\tprint(msg)\n",
    "# boxplot algorithm comparison\n",
    "fig = plt.figure()\n",
    "fig.suptitle('Algorithm Comparison')\n",
    "ax = fig.add_subplot(111)\n",
    "plt.boxplot(results)\n",
    "ax.set_xticklabels(names)\n",
    "plt.show()"
   ]
  },
  {
   "cell_type": "markdown",
   "metadata": {},
   "source": [
    "# Random Forest"
   ]
  },
  {
   "cell_type": "code",
   "execution_count": null,
   "metadata": {},
   "outputs": [],
   "source": []
  },
  {
   "cell_type": "code",
   "execution_count": 7,
   "metadata": {},
   "outputs": [
    {
     "ename": "NameError",
     "evalue": "name 'X_train' is not defined",
     "output_type": "error",
     "traceback": [
      "\u001b[0;31m---------------------------------------------------------------------------\u001b[0m",
      "\u001b[0;31mNameError\u001b[0m                                 Traceback (most recent call last)",
      "\u001b[0;32m<ipython-input-7-5c875675c335>\u001b[0m in \u001b[0;36m<module>\u001b[0;34m\u001b[0m\n\u001b[1;32m      4\u001b[0m \u001b[0;34m\u001b[0m\u001b[0m\n\u001b[1;32m      5\u001b[0m \u001b[0;34m\u001b[0m\u001b[0m\n\u001b[0;32m----> 6\u001b[0;31m \u001b[0mmodel_rfC\u001b[0m \u001b[0;34m=\u001b[0m \u001b[0mrfC\u001b[0m\u001b[0;34m.\u001b[0m\u001b[0mfit\u001b[0m\u001b[0;34m(\u001b[0m\u001b[0mX_train\u001b[0m\u001b[0;34m,\u001b[0m \u001b[0my_train\u001b[0m\u001b[0;34m)\u001b[0m\u001b[0;34m\u001b[0m\u001b[0;34m\u001b[0m\u001b[0m\n\u001b[0m\u001b[1;32m      7\u001b[0m \u001b[0mC_score\u001b[0m \u001b[0;34m=\u001b[0m \u001b[0mrfC\u001b[0m\u001b[0;34m.\u001b[0m\u001b[0mscore\u001b[0m\u001b[0;34m(\u001b[0m\u001b[0mX_test\u001b[0m\u001b[0;34m,\u001b[0m \u001b[0my_test\u001b[0m\u001b[0;34m)\u001b[0m\u001b[0;34m\u001b[0m\u001b[0;34m\u001b[0m\u001b[0m\n",
      "\u001b[0;31mNameError\u001b[0m: name 'X_train' is not defined"
     ]
    }
   ],
   "source": [
    "from sklearn.ensemble import RandomForestClassifier\n",
    "\n",
    "rfC = RandomForestClassifier()\n",
    "\n",
    "\n",
    "model_rfC = rfC.fit(X_train, y_train)\n",
    "C_score = rfC.score(X_test, y_test)\n"
   ]
  },
  {
   "cell_type": "code",
   "execution_count": 13,
   "metadata": {},
   "outputs": [
    {
     "ename": "NotFittedError",
     "evalue": "This RandomForestClassifier instance is not fitted yet. Call 'fit' with appropriate arguments before using this estimator.",
     "output_type": "error",
     "traceback": [
      "\u001b[0;31m---------------------------------------------------------------------------\u001b[0m",
      "\u001b[0;31mNotFittedError\u001b[0m                            Traceback (most recent call last)",
      "\u001b[0;32m<ipython-input-13-60054eecb80b>\u001b[0m in \u001b[0;36m<module>\u001b[0;34m\u001b[0m\n\u001b[0;32m----> 1\u001b[0;31m feature_importances = pd.DataFrame(rfC.feature_importances_,\n\u001b[0m\u001b[1;32m      2\u001b[0m                                    \u001b[0mindex\u001b[0m \u001b[0;34m=\u001b[0m \u001b[0mfeatures\u001b[0m\u001b[0;34m.\u001b[0m\u001b[0mcolumns\u001b[0m\u001b[0;34m,\u001b[0m\u001b[0;34m\u001b[0m\u001b[0;34m\u001b[0m\u001b[0m\n\u001b[1;32m      3\u001b[0m                                     columns=['importance']).sort_values('importance',                                                                 ascending=False)\n",
      "\u001b[0;32m~/anaconda3/lib/python3.7/site-packages/sklearn/ensemble/_forest.py\u001b[0m in \u001b[0;36mfeature_importances_\u001b[0;34m(self)\u001b[0m\n\u001b[1;32m    425\u001b[0m             \u001b[0marray\u001b[0m \u001b[0mof\u001b[0m \u001b[0mzeros\u001b[0m\u001b[0;34m.\u001b[0m\u001b[0;34m\u001b[0m\u001b[0;34m\u001b[0m\u001b[0m\n\u001b[1;32m    426\u001b[0m         \"\"\"\n\u001b[0;32m--> 427\u001b[0;31m         \u001b[0mcheck_is_fitted\u001b[0m\u001b[0;34m(\u001b[0m\u001b[0mself\u001b[0m\u001b[0;34m)\u001b[0m\u001b[0;34m\u001b[0m\u001b[0;34m\u001b[0m\u001b[0m\n\u001b[0m\u001b[1;32m    428\u001b[0m \u001b[0;34m\u001b[0m\u001b[0m\n\u001b[1;32m    429\u001b[0m         all_importances = Parallel(n_jobs=self.n_jobs,\n",
      "\u001b[0;32m~/anaconda3/lib/python3.7/site-packages/sklearn/utils/validation.py\u001b[0m in \u001b[0;36mcheck_is_fitted\u001b[0;34m(estimator, attributes, msg, all_or_any)\u001b[0m\n\u001b[1;32m    965\u001b[0m \u001b[0;34m\u001b[0m\u001b[0m\n\u001b[1;32m    966\u001b[0m     \u001b[0;32mif\u001b[0m \u001b[0;32mnot\u001b[0m \u001b[0mattrs\u001b[0m\u001b[0;34m:\u001b[0m\u001b[0;34m\u001b[0m\u001b[0;34m\u001b[0m\u001b[0m\n\u001b[0;32m--> 967\u001b[0;31m         \u001b[0;32mraise\u001b[0m \u001b[0mNotFittedError\u001b[0m\u001b[0;34m(\u001b[0m\u001b[0mmsg\u001b[0m \u001b[0;34m%\u001b[0m \u001b[0;34m{\u001b[0m\u001b[0;34m'name'\u001b[0m\u001b[0;34m:\u001b[0m \u001b[0mtype\u001b[0m\u001b[0;34m(\u001b[0m\u001b[0mestimator\u001b[0m\u001b[0;34m)\u001b[0m\u001b[0;34m.\u001b[0m\u001b[0m__name__\u001b[0m\u001b[0;34m}\u001b[0m\u001b[0;34m)\u001b[0m\u001b[0;34m\u001b[0m\u001b[0;34m\u001b[0m\u001b[0m\n\u001b[0m\u001b[1;32m    968\u001b[0m \u001b[0;34m\u001b[0m\u001b[0m\n\u001b[1;32m    969\u001b[0m \u001b[0;34m\u001b[0m\u001b[0m\n",
      "\u001b[0;31mNotFittedError\u001b[0m: This RandomForestClassifier instance is not fitted yet. Call 'fit' with appropriate arguments before using this estimator."
     ]
    }
   ],
   "source": [
    "feature_importances = pd.DataFrame(rfC.feature_importances_,\n",
    "                                   index = features.columns,\n",
    "                                    columns=['importance']).sort_values('importance',                                                                 ascending=False)"
   ]
  },
  {
   "cell_type": "code",
   "execution_count": null,
   "metadata": {},
   "outputs": [],
   "source": []
  },
  {
   "cell_type": "code",
   "execution_count": null,
   "metadata": {},
   "outputs": [],
   "source": [
    "from sklearn.ensemble import RandomForestRegressor\n",
    "\n",
    "rfR = RandomForestRegressor()\n",
    "\n",
    "model_rfR = rfR.fit(X_train, y_train)\n",
    "y_pred_rfR = rfR.predict(X_test)"
   ]
  },
  {
   "cell_type": "code",
   "execution_count": 24,
   "metadata": {},
   "outputs": [
    {
     "data": {
      "text/plain": [
       "5822"
      ]
     },
     "execution_count": 24,
     "metadata": {},
     "output_type": "execute_result"
    }
   ],
   "source": [
    "len(prin_Df)"
   ]
  },
  {
   "cell_type": "code",
   "execution_count": 25,
   "metadata": {
    "scrolled": true
   },
   "outputs": [
    {
     "data": {
      "text/plain": [
       "array([0.  , 0.03, 0.01, ..., 0.01, 0.14, 0.  ])"
      ]
     },
     "execution_count": 25,
     "metadata": {},
     "output_type": "execute_result"
    }
   ],
   "source": [
    "y_pred"
   ]
  },
  {
   "cell_type": "code",
   "execution_count": 26,
   "metadata": {},
   "outputs": [
    {
     "ename": "ModuleNotFoundError",
     "evalue": "No module named 'pydot'",
     "output_type": "error",
     "traceback": [
      "\u001b[0;31m---------------------------------------------------------------------------\u001b[0m",
      "\u001b[0;31mModuleNotFoundError\u001b[0m                       Traceback (most recent call last)",
      "\u001b[0;32m<ipython-input-26-9c8655604948>\u001b[0m in \u001b[0;36m<module>\u001b[0;34m\u001b[0m\n\u001b[1;32m      1\u001b[0m \u001b[0;31m# Import tools needed for visualization\u001b[0m\u001b[0;34m\u001b[0m\u001b[0;34m\u001b[0m\u001b[0;34m\u001b[0m\u001b[0m\n\u001b[1;32m      2\u001b[0m \u001b[0;32mfrom\u001b[0m \u001b[0msklearn\u001b[0m\u001b[0;34m.\u001b[0m\u001b[0mtree\u001b[0m \u001b[0;32mimport\u001b[0m \u001b[0mexport_graphviz\u001b[0m\u001b[0;34m\u001b[0m\u001b[0;34m\u001b[0m\u001b[0m\n\u001b[0;32m----> 3\u001b[0;31m \u001b[0;32mimport\u001b[0m \u001b[0mpydot\u001b[0m\u001b[0;34m\u001b[0m\u001b[0;34m\u001b[0m\u001b[0m\n\u001b[0m\u001b[1;32m      4\u001b[0m \u001b[0;31m# Pull out one tree from the forest\u001b[0m\u001b[0;34m\u001b[0m\u001b[0;34m\u001b[0m\u001b[0;34m\u001b[0m\u001b[0m\n\u001b[1;32m      5\u001b[0m \u001b[0mtree\u001b[0m \u001b[0;34m=\u001b[0m \u001b[0mrf\u001b[0m\u001b[0;34m.\u001b[0m\u001b[0mestimators_\u001b[0m\u001b[0;34m[\u001b[0m\u001b[0;36m5\u001b[0m\u001b[0;34m]\u001b[0m\u001b[0;34m\u001b[0m\u001b[0;34m\u001b[0m\u001b[0m\n",
      "\u001b[0;31mModuleNotFoundError\u001b[0m: No module named 'pydot'"
     ]
    }
   ],
   "source": [
    "# Import tools needed for visualization\n",
    "from sklearn.tree import export_graphviz\n",
    "import pydot\n",
    "# Pull out one tree from the forest\n",
    "tree = rf.estimators_[5]\n",
    "# Import tools needed for visualization\n",
    "from sklearn.tree import export_graphviz\n",
    "import pydot\n",
    "# Pull out one tree from the forest\n",
    "tree = rf.estimators_[5]\n",
    "# Export the image to a dot file\n",
    "export_graphviz(tree, out_file = 'tree.dot', feature_names = prin_Df.columns, rounded = True, precision = 1)\n",
    "# Use dot file to create a graph\n",
    "(graph, ) = pydot.graph_from_dot_file('tree.dot')\n",
    "# Write graph to a png file\n",
    "graph.write_png('tree.png')"
   ]
  },
  {
   "cell_type": "code",
   "execution_count": 27,
   "metadata": {},
   "outputs": [
    {
     "data": {
      "text/plain": [
       "array([0, 0, 0, ..., 0, 0, 0])"
      ]
     },
     "execution_count": 27,
     "metadata": {},
     "output_type": "execute_result"
    }
   ],
   "source": [
    "y_test"
   ]
  },
  {
   "cell_type": "code",
   "execution_count": 28,
   "metadata": {},
   "outputs": [],
   "source": [
    "y_bool_pred = (y_pred > .5).astype(int)"
   ]
  },
  {
   "cell_type": "code",
   "execution_count": 29,
   "metadata": {},
   "outputs": [
    {
     "data": {
      "text/plain": [
       "array([0, 0, 0, ..., 0, 0, 0])"
      ]
     },
     "execution_count": 29,
     "metadata": {},
     "output_type": "execute_result"
    }
   ],
   "source": [
    "y_bool_pred"
   ]
  },
  {
   "cell_type": "code",
   "execution_count": 31,
   "metadata": {},
   "outputs": [
    {
     "name": "stdout",
     "output_type": "stream",
     "text": [
      "[[1058   30]\n",
      " [  72    5]]\n",
      "              precision    recall  f1-score   support\n",
      "\n",
      "           0       0.94      0.97      0.95      1088\n",
      "           1       0.14      0.06      0.09        77\n",
      "\n",
      "    accuracy                           0.91      1165\n",
      "   macro avg       0.54      0.52      0.52      1165\n",
      "weighted avg       0.88      0.91      0.90      1165\n",
      "\n",
      "0.9124463519313305\n"
     ]
    }
   ],
   "source": [
    "from sklearn.metrics import classification_report, confusion_matrix, accuracy_score\n",
    "\n",
    "print(confusion_matrix(y_test,y_bool_pred))\n",
    "print(classification_report(y_test,y_bool_pred))\n",
    "print(accuracy_score(y_test, y_bool_pred))"
   ]
  },
  {
   "cell_type": "code",
   "execution_count": 32,
   "metadata": {},
   "outputs": [
    {
     "ename": "AttributeError",
     "evalue": "'numpy.ndarray' object has no attribute 'features'",
     "output_type": "error",
     "traceback": [
      "\u001b[0;31m---------------------------------------------------------------------------\u001b[0m",
      "\u001b[0;31mAttributeError\u001b[0m                            Traceback (most recent call last)",
      "\u001b[0;32m<ipython-input-32-13f913499c58>\u001b[0m in \u001b[0;36m<module>\u001b[0;34m\u001b[0m\n\u001b[0;32m----> 1\u001b[0;31m \u001b[0my_bool_pred\u001b[0m\u001b[0;34m.\u001b[0m\u001b[0mfeatures\u001b[0m\u001b[0;34m(\u001b[0m\u001b[0;34m)\u001b[0m\u001b[0;34m\u001b[0m\u001b[0;34m\u001b[0m\u001b[0m\n\u001b[0m",
      "\u001b[0;31mAttributeError\u001b[0m: 'numpy.ndarray' object has no attribute 'features'"
     ]
    }
   ],
   "source": [
    "y_bool_pred.features()"
   ]
  },
  {
   "cell_type": "code",
   "execution_count": null,
   "metadata": {},
   "outputs": [],
   "source": []
  },
  {
   "cell_type": "code",
   "execution_count": null,
   "metadata": {},
   "outputs": [],
   "source": []
  },
  {
   "cell_type": "code",
   "execution_count": null,
   "metadata": {},
   "outputs": [],
   "source": []
  },
  {
   "cell_type": "code",
   "execution_count": null,
   "metadata": {},
   "outputs": [],
   "source": []
  },
  {
   "cell_type": "code",
   "execution_count": 6,
   "metadata": {},
   "outputs": [
    {
     "name": "stdout",
     "output_type": "stream",
     "text": [
      "      MOSTYPE  MAANTHUI  MGEMOMV  MGEMLEEF  MOSHOOFD  MGODRK  MGODPR  MGODOV  \\\n",
      "41         11         1        3         3         3       2       7       0   \n",
      "45         38         1        3         3         9       0       5       1   \n",
      "57         12         1        3         2         3       0       6       0   \n",
      "97          9         1        2         3         3       0       6       1   \n",
      "98         36         1        2         4         8       2       4       2   \n",
      "...       ...       ...      ...       ...       ...     ...     ...     ...   \n",
      "5756        6         1        5         3         2       2       4       0   \n",
      "5767        3         2        3         3         1       0       6       1   \n",
      "5787        8         1        3         3         2       1       5       1   \n",
      "5797        8         1        4         3         2       0       6       1   \n",
      "5819       33         1        3         4         8       0       6       0   \n",
      "\n",
      "      MGODGE  MRELGE  ...  APERSONG  AGEZONG  AWAOREG  ABRAND  AZEILPL  \\\n",
      "41         0       9  ...         0        0        0       2        0   \n",
      "45         3       7  ...         0        0        0       1        0   \n",
      "57         3       7  ...         0        0        1       1        0   \n",
      "97         2       7  ...         0        0        0       0        0   \n",
      "98         2       7  ...         0        0        0       0        0   \n",
      "...      ...     ...  ...       ...      ...      ...     ...      ...   \n",
      "5756       4       4  ...         0        0        0       1        0   \n",
      "5767       2       6  ...         0        0        0       1        0   \n",
      "5787       4       6  ...         0        0        0       1        0   \n",
      "5797       2       7  ...         0        0        0       1        0   \n",
      "5819       3       5  ...         0        0        0       1        0   \n",
      "\n",
      "      APLEZIER  AFIETS  AINBOED  ABYSTAND  CARAVAN  \n",
      "41           0       1        0         0        1  \n",
      "45           0       0        0         0        1  \n",
      "57           0       0        0         0        1  \n",
      "97           0       0        0         0        1  \n",
      "98           0       0        0         0        1  \n",
      "...        ...     ...      ...       ...      ...  \n",
      "5756         0       0        0         0        1  \n",
      "5767         0       0        0         0        1  \n",
      "5787         0       0        0         0        1  \n",
      "5797         0       0        0         0        1  \n",
      "5819         0       0        0         0        1  \n",
      "\n",
      "[348 rows x 86 columns]\n"
     ]
    }
   ],
   "source": [
    "#\n",
    "df1 = df.query(\"CARAVAN > 0\")\n",
    "print (df1)"
   ]
  },
  {
   "cell_type": "code",
   "execution_count": 8,
   "metadata": {},
   "outputs": [
    {
     "data": {
      "text/html": [
       "<div>\n",
       "<style scoped>\n",
       "    .dataframe tbody tr th:only-of-type {\n",
       "        vertical-align: middle;\n",
       "    }\n",
       "\n",
       "    .dataframe tbody tr th {\n",
       "        vertical-align: top;\n",
       "    }\n",
       "\n",
       "    .dataframe thead th {\n",
       "        text-align: right;\n",
       "    }\n",
       "</style>\n",
       "<table border=\"1\" class=\"dataframe\">\n",
       "  <thead>\n",
       "    <tr style=\"text-align: right;\">\n",
       "      <th></th>\n",
       "      <th>MOSTYPE</th>\n",
       "      <th>MAANTHUI</th>\n",
       "      <th>MGEMOMV</th>\n",
       "      <th>MGEMLEEF</th>\n",
       "      <th>MOSHOOFD</th>\n",
       "      <th>MGODRK</th>\n",
       "      <th>MGODPR</th>\n",
       "      <th>MGODOV</th>\n",
       "      <th>MGODGE</th>\n",
       "      <th>MRELGE</th>\n",
       "      <th>...</th>\n",
       "      <th>APERSONG</th>\n",
       "      <th>AGEZONG</th>\n",
       "      <th>AWAOREG</th>\n",
       "      <th>ABRAND</th>\n",
       "      <th>AZEILPL</th>\n",
       "      <th>APLEZIER</th>\n",
       "      <th>AFIETS</th>\n",
       "      <th>AINBOED</th>\n",
       "      <th>ABYSTAND</th>\n",
       "      <th>CARAVAN</th>\n",
       "    </tr>\n",
       "  </thead>\n",
       "  <tbody>\n",
       "    <tr>\n",
       "      <th>41</th>\n",
       "      <td>11</td>\n",
       "      <td>1</td>\n",
       "      <td>3</td>\n",
       "      <td>3</td>\n",
       "      <td>3</td>\n",
       "      <td>2</td>\n",
       "      <td>7</td>\n",
       "      <td>0</td>\n",
       "      <td>0</td>\n",
       "      <td>9</td>\n",
       "      <td>...</td>\n",
       "      <td>0</td>\n",
       "      <td>0</td>\n",
       "      <td>0</td>\n",
       "      <td>2</td>\n",
       "      <td>0</td>\n",
       "      <td>0</td>\n",
       "      <td>1</td>\n",
       "      <td>0</td>\n",
       "      <td>0</td>\n",
       "      <td>1</td>\n",
       "    </tr>\n",
       "    <tr>\n",
       "      <th>45</th>\n",
       "      <td>38</td>\n",
       "      <td>1</td>\n",
       "      <td>3</td>\n",
       "      <td>3</td>\n",
       "      <td>9</td>\n",
       "      <td>0</td>\n",
       "      <td>5</td>\n",
       "      <td>1</td>\n",
       "      <td>3</td>\n",
       "      <td>7</td>\n",
       "      <td>...</td>\n",
       "      <td>0</td>\n",
       "      <td>0</td>\n",
       "      <td>0</td>\n",
       "      <td>1</td>\n",
       "      <td>0</td>\n",
       "      <td>0</td>\n",
       "      <td>0</td>\n",
       "      <td>0</td>\n",
       "      <td>0</td>\n",
       "      <td>1</td>\n",
       "    </tr>\n",
       "    <tr>\n",
       "      <th>57</th>\n",
       "      <td>12</td>\n",
       "      <td>1</td>\n",
       "      <td>3</td>\n",
       "      <td>2</td>\n",
       "      <td>3</td>\n",
       "      <td>0</td>\n",
       "      <td>6</td>\n",
       "      <td>0</td>\n",
       "      <td>3</td>\n",
       "      <td>7</td>\n",
       "      <td>...</td>\n",
       "      <td>0</td>\n",
       "      <td>0</td>\n",
       "      <td>1</td>\n",
       "      <td>1</td>\n",
       "      <td>0</td>\n",
       "      <td>0</td>\n",
       "      <td>0</td>\n",
       "      <td>0</td>\n",
       "      <td>0</td>\n",
       "      <td>1</td>\n",
       "    </tr>\n",
       "    <tr>\n",
       "      <th>97</th>\n",
       "      <td>9</td>\n",
       "      <td>1</td>\n",
       "      <td>2</td>\n",
       "      <td>3</td>\n",
       "      <td>3</td>\n",
       "      <td>0</td>\n",
       "      <td>6</td>\n",
       "      <td>1</td>\n",
       "      <td>2</td>\n",
       "      <td>7</td>\n",
       "      <td>...</td>\n",
       "      <td>0</td>\n",
       "      <td>0</td>\n",
       "      <td>0</td>\n",
       "      <td>0</td>\n",
       "      <td>0</td>\n",
       "      <td>0</td>\n",
       "      <td>0</td>\n",
       "      <td>0</td>\n",
       "      <td>0</td>\n",
       "      <td>1</td>\n",
       "    </tr>\n",
       "    <tr>\n",
       "      <th>98</th>\n",
       "      <td>36</td>\n",
       "      <td>1</td>\n",
       "      <td>2</td>\n",
       "      <td>4</td>\n",
       "      <td>8</td>\n",
       "      <td>2</td>\n",
       "      <td>4</td>\n",
       "      <td>2</td>\n",
       "      <td>2</td>\n",
       "      <td>7</td>\n",
       "      <td>...</td>\n",
       "      <td>0</td>\n",
       "      <td>0</td>\n",
       "      <td>0</td>\n",
       "      <td>0</td>\n",
       "      <td>0</td>\n",
       "      <td>0</td>\n",
       "      <td>0</td>\n",
       "      <td>0</td>\n",
       "      <td>0</td>\n",
       "      <td>1</td>\n",
       "    </tr>\n",
       "  </tbody>\n",
       "</table>\n",
       "<p>5 rows × 86 columns</p>\n",
       "</div>"
      ],
      "text/plain": [
       "    MOSTYPE  MAANTHUI  MGEMOMV  MGEMLEEF  MOSHOOFD  MGODRK  MGODPR  MGODOV  \\\n",
       "41       11         1        3         3         3       2       7       0   \n",
       "45       38         1        3         3         9       0       5       1   \n",
       "57       12         1        3         2         3       0       6       0   \n",
       "97        9         1        2         3         3       0       6       1   \n",
       "98       36         1        2         4         8       2       4       2   \n",
       "\n",
       "    MGODGE  MRELGE  ...  APERSONG  AGEZONG  AWAOREG  ABRAND  AZEILPL  \\\n",
       "41       0       9  ...         0        0        0       2        0   \n",
       "45       3       7  ...         0        0        0       1        0   \n",
       "57       3       7  ...         0        0        1       1        0   \n",
       "97       2       7  ...         0        0        0       0        0   \n",
       "98       2       7  ...         0        0        0       0        0   \n",
       "\n",
       "    APLEZIER  AFIETS  AINBOED  ABYSTAND  CARAVAN  \n",
       "41         0       1        0         0        1  \n",
       "45         0       0        0         0        1  \n",
       "57         0       0        0         0        1  \n",
       "97         0       0        0         0        1  \n",
       "98         0       0        0         0        1  \n",
       "\n",
       "[5 rows x 86 columns]"
      ]
     },
     "execution_count": 8,
     "metadata": {},
     "output_type": "execute_result"
    }
   ],
   "source": [
    "df1.head()"
   ]
  },
  {
   "cell_type": "code",
   "execution_count": 8,
   "metadata": {},
   "outputs": [
    {
     "data": {
      "text/html": [
       "<div>\n",
       "<style scoped>\n",
       "    .dataframe tbody tr th:only-of-type {\n",
       "        vertical-align: middle;\n",
       "    }\n",
       "\n",
       "    .dataframe tbody tr th {\n",
       "        vertical-align: top;\n",
       "    }\n",
       "\n",
       "    .dataframe thead th {\n",
       "        text-align: right;\n",
       "    }\n",
       "</style>\n",
       "<table border=\"1\" class=\"dataframe\">\n",
       "  <thead>\n",
       "    <tr style=\"text-align: right;\">\n",
       "      <th></th>\n",
       "      <th>MOSTYPE</th>\n",
       "      <th>MAANTHUI</th>\n",
       "      <th>MGEMOMV</th>\n",
       "      <th>MGEMLEEF</th>\n",
       "      <th>MOSHOOFD</th>\n",
       "      <th>MGODRK</th>\n",
       "      <th>MGODPR</th>\n",
       "      <th>MGODOV</th>\n",
       "      <th>MGODGE</th>\n",
       "      <th>MRELGE</th>\n",
       "      <th>...</th>\n",
       "      <th>APERSONG</th>\n",
       "      <th>AGEZONG</th>\n",
       "      <th>AWAOREG</th>\n",
       "      <th>ABRAND</th>\n",
       "      <th>AZEILPL</th>\n",
       "      <th>APLEZIER</th>\n",
       "      <th>AFIETS</th>\n",
       "      <th>AINBOED</th>\n",
       "      <th>ABYSTAND</th>\n",
       "      <th>CARAVAN</th>\n",
       "    </tr>\n",
       "  </thead>\n",
       "  <tbody>\n",
       "    <tr>\n",
       "      <th>MOSTYPE</th>\n",
       "      <td>1.000000</td>\n",
       "      <td>-0.099360</td>\n",
       "      <td>-0.137949</td>\n",
       "      <td>0.006246</td>\n",
       "      <td>0.995323</td>\n",
       "      <td>-0.192908</td>\n",
       "      <td>0.049142</td>\n",
       "      <td>-0.005871</td>\n",
       "      <td>-0.011274</td>\n",
       "      <td>-0.133290</td>\n",
       "      <td>...</td>\n",
       "      <td>0.012683</td>\n",
       "      <td>0.031294</td>\n",
       "      <td>0.072058</td>\n",
       "      <td>-0.122582</td>\n",
       "      <td>0.043603</td>\n",
       "      <td>0.081474</td>\n",
       "      <td>0.051109</td>\n",
       "      <td>0.033741</td>\n",
       "      <td>-0.064697</td>\n",
       "      <td>NaN</td>\n",
       "    </tr>\n",
       "    <tr>\n",
       "      <th>MAANTHUI</th>\n",
       "      <td>-0.099360</td>\n",
       "      <td>1.000000</td>\n",
       "      <td>0.259257</td>\n",
       "      <td>-0.090350</td>\n",
       "      <td>-0.107411</td>\n",
       "      <td>-0.019632</td>\n",
       "      <td>-0.024410</td>\n",
       "      <td>-0.120975</td>\n",
       "      <td>0.078714</td>\n",
       "      <td>0.159281</td>\n",
       "      <td>...</td>\n",
       "      <td>-0.017375</td>\n",
       "      <td>0.032478</td>\n",
       "      <td>-0.034902</td>\n",
       "      <td>0.032977</td>\n",
       "      <td>-0.017375</td>\n",
       "      <td>-0.015255</td>\n",
       "      <td>-0.062734</td>\n",
       "      <td>0.043342</td>\n",
       "      <td>0.116271</td>\n",
       "      <td>NaN</td>\n",
       "    </tr>\n",
       "    <tr>\n",
       "      <th>MGEMOMV</th>\n",
       "      <td>-0.137949</td>\n",
       "      <td>0.259257</td>\n",
       "      <td>1.000000</td>\n",
       "      <td>-0.491325</td>\n",
       "      <td>-0.119020</td>\n",
       "      <td>0.134067</td>\n",
       "      <td>0.135467</td>\n",
       "      <td>-0.174656</td>\n",
       "      <td>-0.103044</td>\n",
       "      <td>0.408810</td>\n",
       "      <td>...</td>\n",
       "      <td>-0.056285</td>\n",
       "      <td>0.036864</td>\n",
       "      <td>0.030012</td>\n",
       "      <td>0.042949</td>\n",
       "      <td>0.014941</td>\n",
       "      <td>-0.055451</td>\n",
       "      <td>0.029453</td>\n",
       "      <td>0.001565</td>\n",
       "      <td>0.042895</td>\n",
       "      <td>NaN</td>\n",
       "    </tr>\n",
       "    <tr>\n",
       "      <th>MGEMLEEF</th>\n",
       "      <td>0.006246</td>\n",
       "      <td>-0.090350</td>\n",
       "      <td>-0.491325</td>\n",
       "      <td>1.000000</td>\n",
       "      <td>-0.001172</td>\n",
       "      <td>-0.091795</td>\n",
       "      <td>0.025444</td>\n",
       "      <td>0.055956</td>\n",
       "      <td>-0.015655</td>\n",
       "      <td>-0.186774</td>\n",
       "      <td>...</td>\n",
       "      <td>-0.000395</td>\n",
       "      <td>-0.000975</td>\n",
       "      <td>-0.069874</td>\n",
       "      <td>-0.017866</td>\n",
       "      <td>-0.000395</td>\n",
       "      <td>-0.001407</td>\n",
       "      <td>0.010398</td>\n",
       "      <td>0.030050</td>\n",
       "      <td>-0.001616</td>\n",
       "      <td>NaN</td>\n",
       "    </tr>\n",
       "    <tr>\n",
       "      <th>MOSHOOFD</th>\n",
       "      <td>0.995323</td>\n",
       "      <td>-0.107411</td>\n",
       "      <td>-0.119020</td>\n",
       "      <td>-0.001172</td>\n",
       "      <td>1.000000</td>\n",
       "      <td>-0.190412</td>\n",
       "      <td>0.056907</td>\n",
       "      <td>-0.008678</td>\n",
       "      <td>-0.018238</td>\n",
       "      <td>-0.111254</td>\n",
       "      <td>...</td>\n",
       "      <td>0.000201</td>\n",
       "      <td>0.036449</td>\n",
       "      <td>0.070652</td>\n",
       "      <td>-0.120755</td>\n",
       "      <td>0.035173</td>\n",
       "      <td>0.076266</td>\n",
       "      <td>0.045821</td>\n",
       "      <td>0.031914</td>\n",
       "      <td>-0.061746</td>\n",
       "      <td>NaN</td>\n",
       "    </tr>\n",
       "    <tr>\n",
       "      <th>...</th>\n",
       "      <td>...</td>\n",
       "      <td>...</td>\n",
       "      <td>...</td>\n",
       "      <td>...</td>\n",
       "      <td>...</td>\n",
       "      <td>...</td>\n",
       "      <td>...</td>\n",
       "      <td>...</td>\n",
       "      <td>...</td>\n",
       "      <td>...</td>\n",
       "      <td>...</td>\n",
       "      <td>...</td>\n",
       "      <td>...</td>\n",
       "      <td>...</td>\n",
       "      <td>...</td>\n",
       "      <td>...</td>\n",
       "      <td>...</td>\n",
       "      <td>...</td>\n",
       "      <td>...</td>\n",
       "      <td>...</td>\n",
       "      <td>...</td>\n",
       "    </tr>\n",
       "    <tr>\n",
       "      <th>APLEZIER</th>\n",
       "      <td>0.081474</td>\n",
       "      <td>-0.015255</td>\n",
       "      <td>-0.055451</td>\n",
       "      <td>-0.001407</td>\n",
       "      <td>0.076266</td>\n",
       "      <td>-0.031796</td>\n",
       "      <td>-0.024268</td>\n",
       "      <td>0.049694</td>\n",
       "      <td>0.050477</td>\n",
       "      <td>-0.075714</td>\n",
       "      <td>...</td>\n",
       "      <td>0.244632</td>\n",
       "      <td>-0.025300</td>\n",
       "      <td>-0.020597</td>\n",
       "      <td>-0.052021</td>\n",
       "      <td>0.244632</td>\n",
       "      <td>1.000000</td>\n",
       "      <td>-0.037022</td>\n",
       "      <td>0.091589</td>\n",
       "      <td>0.088358</td>\n",
       "      <td>NaN</td>\n",
       "    </tr>\n",
       "    <tr>\n",
       "      <th>AFIETS</th>\n",
       "      <td>0.051109</td>\n",
       "      <td>-0.062734</td>\n",
       "      <td>0.029453</td>\n",
       "      <td>0.010398</td>\n",
       "      <td>0.045821</td>\n",
       "      <td>-0.042517</td>\n",
       "      <td>0.045940</td>\n",
       "      <td>0.028269</td>\n",
       "      <td>-0.038633</td>\n",
       "      <td>0.005533</td>\n",
       "      <td>...</td>\n",
       "      <td>-0.010405</td>\n",
       "      <td>0.187042</td>\n",
       "      <td>-0.020900</td>\n",
       "      <td>-0.034231</td>\n",
       "      <td>-0.010405</td>\n",
       "      <td>-0.037022</td>\n",
       "      <td>1.000000</td>\n",
       "      <td>0.054158</td>\n",
       "      <td>-0.042550</td>\n",
       "      <td>NaN</td>\n",
       "    </tr>\n",
       "    <tr>\n",
       "      <th>AINBOED</th>\n",
       "      <td>0.033741</td>\n",
       "      <td>0.043342</td>\n",
       "      <td>0.001565</td>\n",
       "      <td>0.030050</td>\n",
       "      <td>0.031914</td>\n",
       "      <td>-0.069918</td>\n",
       "      <td>0.040573</td>\n",
       "      <td>0.036380</td>\n",
       "      <td>-0.058348</td>\n",
       "      <td>-0.157190</td>\n",
       "      <td>...</td>\n",
       "      <td>-0.006481</td>\n",
       "      <td>-0.015992</td>\n",
       "      <td>-0.013019</td>\n",
       "      <td>0.022599</td>\n",
       "      <td>0.444629</td>\n",
       "      <td>0.091589</td>\n",
       "      <td>0.054158</td>\n",
       "      <td>1.000000</td>\n",
       "      <td>-0.026505</td>\n",
       "      <td>NaN</td>\n",
       "    </tr>\n",
       "    <tr>\n",
       "      <th>ABYSTAND</th>\n",
       "      <td>-0.064697</td>\n",
       "      <td>0.116271</td>\n",
       "      <td>0.042895</td>\n",
       "      <td>-0.001616</td>\n",
       "      <td>-0.061746</td>\n",
       "      <td>-0.008235</td>\n",
       "      <td>0.070416</td>\n",
       "      <td>0.047703</td>\n",
       "      <td>-0.107761</td>\n",
       "      <td>0.055322</td>\n",
       "      <td>...</td>\n",
       "      <td>-0.011785</td>\n",
       "      <td>0.181733</td>\n",
       "      <td>-0.023672</td>\n",
       "      <td>0.074190</td>\n",
       "      <td>-0.011785</td>\n",
       "      <td>0.088358</td>\n",
       "      <td>-0.042550</td>\n",
       "      <td>-0.026505</td>\n",
       "      <td>1.000000</td>\n",
       "      <td>NaN</td>\n",
       "    </tr>\n",
       "    <tr>\n",
       "      <th>CARAVAN</th>\n",
       "      <td>NaN</td>\n",
       "      <td>NaN</td>\n",
       "      <td>NaN</td>\n",
       "      <td>NaN</td>\n",
       "      <td>NaN</td>\n",
       "      <td>NaN</td>\n",
       "      <td>NaN</td>\n",
       "      <td>NaN</td>\n",
       "      <td>NaN</td>\n",
       "      <td>NaN</td>\n",
       "      <td>...</td>\n",
       "      <td>NaN</td>\n",
       "      <td>NaN</td>\n",
       "      <td>NaN</td>\n",
       "      <td>NaN</td>\n",
       "      <td>NaN</td>\n",
       "      <td>NaN</td>\n",
       "      <td>NaN</td>\n",
       "      <td>NaN</td>\n",
       "      <td>NaN</td>\n",
       "      <td>NaN</td>\n",
       "    </tr>\n",
       "  </tbody>\n",
       "</table>\n",
       "<p>86 rows × 86 columns</p>\n",
       "</div>"
      ],
      "text/plain": [
       "           MOSTYPE  MAANTHUI   MGEMOMV  MGEMLEEF  MOSHOOFD    MGODRK  \\\n",
       "MOSTYPE   1.000000 -0.099360 -0.137949  0.006246  0.995323 -0.192908   \n",
       "MAANTHUI -0.099360  1.000000  0.259257 -0.090350 -0.107411 -0.019632   \n",
       "MGEMOMV  -0.137949  0.259257  1.000000 -0.491325 -0.119020  0.134067   \n",
       "MGEMLEEF  0.006246 -0.090350 -0.491325  1.000000 -0.001172 -0.091795   \n",
       "MOSHOOFD  0.995323 -0.107411 -0.119020 -0.001172  1.000000 -0.190412   \n",
       "...            ...       ...       ...       ...       ...       ...   \n",
       "APLEZIER  0.081474 -0.015255 -0.055451 -0.001407  0.076266 -0.031796   \n",
       "AFIETS    0.051109 -0.062734  0.029453  0.010398  0.045821 -0.042517   \n",
       "AINBOED   0.033741  0.043342  0.001565  0.030050  0.031914 -0.069918   \n",
       "ABYSTAND -0.064697  0.116271  0.042895 -0.001616 -0.061746 -0.008235   \n",
       "CARAVAN        NaN       NaN       NaN       NaN       NaN       NaN   \n",
       "\n",
       "            MGODPR    MGODOV    MGODGE    MRELGE  ...  APERSONG   AGEZONG  \\\n",
       "MOSTYPE   0.049142 -0.005871 -0.011274 -0.133290  ...  0.012683  0.031294   \n",
       "MAANTHUI -0.024410 -0.120975  0.078714  0.159281  ... -0.017375  0.032478   \n",
       "MGEMOMV   0.135467 -0.174656 -0.103044  0.408810  ... -0.056285  0.036864   \n",
       "MGEMLEEF  0.025444  0.055956 -0.015655 -0.186774  ... -0.000395 -0.000975   \n",
       "MOSHOOFD  0.056907 -0.008678 -0.018238 -0.111254  ...  0.000201  0.036449   \n",
       "...            ...       ...       ...       ...  ...       ...       ...   \n",
       "APLEZIER -0.024268  0.049694  0.050477 -0.075714  ...  0.244632 -0.025300   \n",
       "AFIETS    0.045940  0.028269 -0.038633  0.005533  ... -0.010405  0.187042   \n",
       "AINBOED   0.040573  0.036380 -0.058348 -0.157190  ... -0.006481 -0.015992   \n",
       "ABYSTAND  0.070416  0.047703 -0.107761  0.055322  ... -0.011785  0.181733   \n",
       "CARAVAN        NaN       NaN       NaN       NaN  ...       NaN       NaN   \n",
       "\n",
       "           AWAOREG    ABRAND   AZEILPL  APLEZIER    AFIETS   AINBOED  \\\n",
       "MOSTYPE   0.072058 -0.122582  0.043603  0.081474  0.051109  0.033741   \n",
       "MAANTHUI -0.034902  0.032977 -0.017375 -0.015255 -0.062734  0.043342   \n",
       "MGEMOMV   0.030012  0.042949  0.014941 -0.055451  0.029453  0.001565   \n",
       "MGEMLEEF -0.069874 -0.017866 -0.000395 -0.001407  0.010398  0.030050   \n",
       "MOSHOOFD  0.070652 -0.120755  0.035173  0.076266  0.045821  0.031914   \n",
       "...            ...       ...       ...       ...       ...       ...   \n",
       "APLEZIER -0.020597 -0.052021  0.244632  1.000000 -0.037022  0.091589   \n",
       "AFIETS   -0.020900 -0.034231 -0.010405 -0.037022  1.000000  0.054158   \n",
       "AINBOED  -0.013019  0.022599  0.444629  0.091589  0.054158  1.000000   \n",
       "ABYSTAND -0.023672  0.074190 -0.011785  0.088358 -0.042550 -0.026505   \n",
       "CARAVAN        NaN       NaN       NaN       NaN       NaN       NaN   \n",
       "\n",
       "          ABYSTAND  CARAVAN  \n",
       "MOSTYPE  -0.064697      NaN  \n",
       "MAANTHUI  0.116271      NaN  \n",
       "MGEMOMV   0.042895      NaN  \n",
       "MGEMLEEF -0.001616      NaN  \n",
       "MOSHOOFD -0.061746      NaN  \n",
       "...            ...      ...  \n",
       "APLEZIER  0.088358      NaN  \n",
       "AFIETS   -0.042550      NaN  \n",
       "AINBOED  -0.026505      NaN  \n",
       "ABYSTAND  1.000000      NaN  \n",
       "CARAVAN        NaN      NaN  \n",
       "\n",
       "[86 rows x 86 columns]"
      ]
     },
     "execution_count": 8,
     "metadata": {},
     "output_type": "execute_result"
    }
   ],
   "source": [
    "df1.()"
   ]
  },
  {
   "cell_type": "code",
   "execution_count": null,
   "metadata": {},
   "outputs": [],
   "source": []
  },
  {
   "cell_type": "code",
   "execution_count": 10,
   "metadata": {},
   "outputs": [
    {
     "name": "stdout",
     "output_type": "stream",
     "text": [
      "PBESAUT   ABESAUT     1.000000e+00\n",
      "MZFONDS   MZPART      1.000000e+00\n",
      "PPERSONG  APERSONG    1.000000e+00\n",
      "PZEILPL   AZEILPL     1.000000e+00\n",
      "MHHUUR    MHKOOP      1.000000e+00\n",
      "                          ...     \n",
      "MRELSA    PPERSAUT    9.119052e-05\n",
      "MINK3045  AMOTSCO     7.517406e-05\n",
      "MKOOPKLA  PMOTSCO     6.747829e-17\n",
      "          AWAOREG     1.248825e-17\n",
      "          PWAOREG     3.603573e-18\n",
      "Length: 3240, dtype: float64\n"
     ]
    }
   ],
   "source": [
    "#Find the top correlations in the chart above to better understand the dataset.\n",
    "corr_matrix = df1.corr().abs()\n",
    "\n",
    "#the matrix is symmetric so we need to extract upper triangle matrix without diagonal (k = 1)\n",
    "sol = (corr_matrix.where(np.triu(np.ones(corr_matrix.shape), k=1).astype(np.bool))\n",
    "                 .stack()\n",
    "                 .sort_values(ascending=False))\n",
    "#first element of sol series is the pair with the bigest correlation\n",
    "print(sol)"
   ]
  },
  {
   "cell_type": "markdown",
   "metadata": {},
   "source": [
    "# Find what features have no stemming relationships"
   ]
  },
  {
   "cell_type": "markdown",
   "metadata": {},
   "source": [
    "# Lasso model to find import features"
   ]
  },
  {
   "cell_type": "code",
   "execution_count": 20,
   "metadata": {},
   "outputs": [],
   "source": [
    "#Lasso using feature_selection\n",
    "from sklearn.feature_selection import SelectFromModel\n",
    "from sklearn.linear_model import LassoCV"
   ]
  },
  {
   "cell_type": "code",
   "execution_count": 64,
   "metadata": {},
   "outputs": [
    {
     "name": "stdout",
     "output_type": "stream",
     "text": [
      "Index(['Customer Subtype L0', 'Number of houses 1 ñ 10',\n",
      "       'Avg size household 1 ñ 6', 'Avg age see L1',\n",
      "       'Customer main type see L2', 'Roman catholic see L3', 'Protestant',\n",
      "       'Other religion', 'No religion', 'Married', 'Living together',\n",
      "       'Other relation', 'Singles', 'Household without children',\n",
      "       'Household with children', 'High level education',\n",
      "       'Medium level education', 'Lower level education', 'High status',\n",
      "       'Entrepreneur', 'Farmer', 'Middle management', 'Skilled labourers',\n",
      "       'Unskilled labourers', 'Social class A', 'Social class B1',\n",
      "       'Social class B2', 'Social class C', 'Social class D', 'Rented house',\n",
      "       'Home owners', '1 car', '2 cars', 'No car', 'National Health Service',\n",
      "       'Private health insurance', 'Income < 30.000', 'Income 30-45.000',\n",
      "       'Income 45-75.000', 'Income 75-122.000', 'Income >123.000',\n",
      "       'Average income', 'Purchasing power class',\n",
      "       'Contribution private third party insurance see L4',\n",
      "       'Contribution third party insurance (firms)',\n",
      "       'Contribution third party insurance (agriculture)',\n",
      "       'Contribution car policies', 'Contribution delivery van policies',\n",
      "       'Contribution motorcycle/scooter policies',\n",
      "       'Contribution lorry policies', 'Contribution trailer policies',\n",
      "       'Contribution tractor policies',\n",
      "       'Contribution agricultural machines policies',\n",
      "       'Contribution moped policies', 'Contribution life insurances',\n",
      "       'Contribution private accident insurance policies',\n",
      "       'Contribution family accidents insurance policies',\n",
      "       'Contribution disability insurance policies',\n",
      "       'Contribution fire policies', 'Contribution surfboard policies',\n",
      "       'Contribution boat policies', 'Contribution bicycle policies',\n",
      "       'Contribution property insurance policies',\n",
      "       'Contribution social security insurance policies',\n",
      "       'Number of private third party insurance 1 - 12',\n",
      "       'Number of third party insurance (firms)',\n",
      "       'Number of third party insurance (agriculture)',\n",
      "       'Number of car policies', 'Number of delivery van policies',\n",
      "       'Number of motorcycle/scooter policies', 'Number of lorry policies',\n",
      "       'Number of trailer policies', 'Number of tractor policies',\n",
      "       'Number of agricultural machines policies', 'Number of moped policies',\n",
      "       'Number of life insurances',\n",
      "       'Number of private accident insurance policies',\n",
      "       'Number of family accidents insurance policies',\n",
      "       'Number of disability insurance policies', 'Number of fire policies',\n",
      "       'Number of surfboard policies', 'Number of boat policies',\n",
      "       'Number of bicycle policies', 'Number of property insurance policies',\n",
      "       'Number of social security insurance policies',\n",
      "       'Number of mobile home policies 0 - 1'],\n",
      "      dtype='object')\n"
     ]
    }
   ],
   "source": [
    "X = df.iloc[:, 0:42]\n",
    "y = df.iloc[:, -1]\n",
    "\n",
    "feature_names = df.keys()\n",
    "print(feature_names)"
   ]
  }
 ],
 "metadata": {
  "kernelspec": {
   "display_name": "Python 3",
   "language": "python",
   "name": "python3"
  },
  "language_info": {
   "codemirror_mode": {
    "name": "ipython",
    "version": 3
   },
   "file_extension": ".py",
   "mimetype": "text/x-python",
   "name": "python",
   "nbconvert_exporter": "python",
   "pygments_lexer": "ipython3",
   "version": "3.7.3"
  }
 },
 "nbformat": 4,
 "nbformat_minor": 2
}
