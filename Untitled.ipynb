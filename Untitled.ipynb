{
 "cells": [
  {
   "cell_type": "code",
   "execution_count": 2,
   "metadata": {},
   "outputs": [],
   "source": [
    "import os\n",
    "import scipy as sp\n",
    "import matplotlib.pyplot as plt\n",
    "import numpy as np\n",
    "import pandas as pd\n",
    "import seaborn as sns\n",
    "from numpy.random import seed\n",
    "from scipy.stats import norm\n",
    "from scipy.stats import t\n",
    "from sklearn.preprocessing import StandardScaler"
   ]
  },
  {
   "cell_type": "code",
   "execution_count": 3,
   "metadata": {},
   "outputs": [],
   "source": [
    "df = pd.read_csv('tic_2000_train_data.csv')"
   ]
  },
  {
   "cell_type": "code",
   "execution_count": 4,
   "metadata": {},
   "outputs": [
    {
     "data": {
      "text/plain": [
       "Index(['MOSTYPE', 'MAANTHUI', 'MGEMOMV', 'MGEMLEEF', 'MOSHOOFD', 'MGODRK',\n",
       "       'MGODPR', 'MGODOV', 'MGODGE', 'MRELGE', 'MRELSA', 'MRELOV', 'MFALLEEN',\n",
       "       'MFGEKIND', 'MFWEKIND', 'MOPLHOOG', 'MOPLMIDD', 'MOPLLAAG', 'MBERHOOG',\n",
       "       'MBERZELF', 'MBERBOER', 'MBERMIDD', 'MBERARBG', 'MBERARBO', 'MSKA',\n",
       "       'MSKB1', 'MSKB2', 'MSKC', 'MSKD', 'MHHUUR', 'MHKOOP', 'MAUT1', 'MAUT2',\n",
       "       'MAUT0', 'MZFONDS', 'MZPART', 'MINKM30', 'MINK3045', 'MINK4575',\n",
       "       'MINK7512', 'MINK123M', 'MINKGEM', 'MKOOPKLA', 'PWAPART', 'PWABEDR',\n",
       "       'PWALAND', 'PPERSAUT', 'PBESAUT', 'PMOTSCO', 'PVRAAUT', 'PAANHANG',\n",
       "       'PTRACTOR', 'PWERKT', 'PBROM', 'PLEVEN', 'PPERSONG', 'PGEZONG',\n",
       "       'PWAOREG', 'PBRAND', 'PZEILPL', 'PPLEZIER', 'PFIETS', 'PINBOED',\n",
       "       'PBYSTAND', 'AWAPART', 'AWABEDR', 'AWALAND', 'APERSAUT', 'ABESAUT',\n",
       "       'AMOTSCO', 'AVRAAUT', 'AAANHANG', 'ATRACTOR', 'AWERKT', 'ABROM',\n",
       "       'ALEVEN', 'APERSONG', 'AGEZONG', 'AWAOREG', 'ABRAND', 'AZEILPL',\n",
       "       'APLEZIER', 'AFIETS', 'AINBOED', 'ABYSTAND', 'CARAVAN'],\n",
       "      dtype='object')"
      ]
     },
     "execution_count": 4,
     "metadata": {},
     "output_type": "execute_result"
    }
   ],
   "source": [
    "df.keys()"
   ]
  },
  {
   "cell_type": "code",
   "execution_count": 6,
   "metadata": {},
   "outputs": [
    {
     "name": "stdout",
     "output_type": "stream",
     "text": [
      "<class 'pandas.core.frame.DataFrame'>\n",
      "RangeIndex: 5822 entries, 0 to 5821\n",
      "Data columns (total 86 columns):\n",
      "MOSTYPE     5822 non-null int64\n",
      "MAANTHUI    5822 non-null int64\n",
      "MGEMOMV     5822 non-null int64\n",
      "MGEMLEEF    5822 non-null int64\n",
      "MOSHOOFD    5822 non-null int64\n",
      "MGODRK      5822 non-null int64\n",
      "MGODPR      5822 non-null int64\n",
      "MGODOV      5822 non-null int64\n",
      "MGODGE      5822 non-null int64\n",
      "MRELGE      5822 non-null int64\n",
      "MRELSA      5822 non-null int64\n",
      "MRELOV      5822 non-null int64\n",
      "MFALLEEN    5822 non-null int64\n",
      "MFGEKIND    5822 non-null int64\n",
      "MFWEKIND    5822 non-null int64\n",
      "MOPLHOOG    5822 non-null int64\n",
      "MOPLMIDD    5822 non-null int64\n",
      "MOPLLAAG    5822 non-null int64\n",
      "MBERHOOG    5822 non-null int64\n",
      "MBERZELF    5822 non-null int64\n",
      "MBERBOER    5822 non-null int64\n",
      "MBERMIDD    5822 non-null int64\n",
      "MBERARBG    5822 non-null int64\n",
      "MBERARBO    5822 non-null int64\n",
      "MSKA        5822 non-null int64\n",
      "MSKB1       5822 non-null int64\n",
      "MSKB2       5822 non-null int64\n",
      "MSKC        5822 non-null int64\n",
      "MSKD        5822 non-null int64\n",
      "MHHUUR      5822 non-null int64\n",
      "MHKOOP      5822 non-null int64\n",
      "MAUT1       5822 non-null int64\n",
      "MAUT2       5822 non-null int64\n",
      "MAUT0       5822 non-null int64\n",
      "MZFONDS     5822 non-null int64\n",
      "MZPART      5822 non-null int64\n",
      "MINKM30     5822 non-null int64\n",
      "MINK3045    5822 non-null int64\n",
      "MINK4575    5822 non-null int64\n",
      "MINK7512    5822 non-null int64\n",
      "MINK123M    5822 non-null int64\n",
      "MINKGEM     5822 non-null int64\n",
      "MKOOPKLA    5822 non-null int64\n",
      "PWAPART     5822 non-null int64\n",
      "PWABEDR     5822 non-null int64\n",
      "PWALAND     5822 non-null int64\n",
      "PPERSAUT    5822 non-null int64\n",
      "PBESAUT     5822 non-null int64\n",
      "PMOTSCO     5822 non-null int64\n",
      "PVRAAUT     5822 non-null int64\n",
      "PAANHANG    5822 non-null int64\n",
      "PTRACTOR    5822 non-null int64\n",
      "PWERKT      5822 non-null int64\n",
      "PBROM       5822 non-null int64\n",
      "PLEVEN      5822 non-null int64\n",
      "PPERSONG    5822 non-null int64\n",
      "PGEZONG     5822 non-null int64\n",
      "PWAOREG     5822 non-null int64\n",
      "PBRAND      5822 non-null int64\n",
      "PZEILPL     5822 non-null int64\n",
      "PPLEZIER    5822 non-null int64\n",
      "PFIETS      5822 non-null int64\n",
      "PINBOED     5822 non-null int64\n",
      "PBYSTAND    5822 non-null int64\n",
      "AWAPART     5822 non-null int64\n",
      "AWABEDR     5822 non-null int64\n",
      "AWALAND     5822 non-null int64\n",
      "APERSAUT    5822 non-null int64\n",
      "ABESAUT     5822 non-null int64\n",
      "AMOTSCO     5822 non-null int64\n",
      "AVRAAUT     5822 non-null int64\n",
      "AAANHANG    5822 non-null int64\n",
      "ATRACTOR    5822 non-null int64\n",
      "AWERKT      5822 non-null int64\n",
      "ABROM       5822 non-null int64\n",
      "ALEVEN      5822 non-null int64\n",
      "APERSONG    5822 non-null int64\n",
      "AGEZONG     5822 non-null int64\n",
      "AWAOREG     5822 non-null int64\n",
      "ABRAND      5822 non-null int64\n",
      "AZEILPL     5822 non-null int64\n",
      "APLEZIER    5822 non-null int64\n",
      "AFIETS      5822 non-null int64\n",
      "AINBOED     5822 non-null int64\n",
      "ABYSTAND    5822 non-null int64\n",
      "CARAVAN     5822 non-null int64\n",
      "dtypes: int64(86)\n",
      "memory usage: 3.8 MB\n"
     ]
    }
   ],
   "source": [
    "df.info()"
   ]
  },
  {
   "cell_type": "code",
   "execution_count": null,
   "metadata": {},
   "outputs": [],
   "source": []
  }
 ],
 "metadata": {
  "kernelspec": {
   "display_name": "Python 3",
   "language": "python",
   "name": "python3"
  },
  "language_info": {
   "codemirror_mode": {
    "name": "ipython",
    "version": 3
   },
   "file_extension": ".py",
   "mimetype": "text/x-python",
   "name": "python",
   "nbconvert_exporter": "python",
   "pygments_lexer": "ipython3",
   "version": "3.7.3"
  }
 },
 "nbformat": 4,
 "nbformat_minor": 2
}
